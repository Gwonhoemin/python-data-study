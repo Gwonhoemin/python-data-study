{
 "cells": [
  {
   "cell_type": "markdown",
   "id": "836cd6b2-9269-4561-90e7-3d1ae9e3b3bf",
   "metadata": {},
   "source": [
    "(1번)\n",
    "숫자 데이터를 시리즈로 만들어주세요  \n",
    "값은 [5,10,15,20] 이고, 인덱스는 자동으로 생성"
   ]
  },
  {
   "cell_type": "code",
   "execution_count": 9,
   "id": "8ca2b6c1-0792-46d4-bd7c-25c5067dfe11",
   "metadata": {},
   "outputs": [],
   "source": [
    "import pandas as pd"
   ]
  },
  {
   "cell_type": "code",
   "execution_count": 13,
   "id": "86c32e7d-6629-4f7d-8da7-8b18e0e11bbe",
   "metadata": {},
   "outputs": [
    {
     "name": "stdout",
     "output_type": "stream",
     "text": [
      "0     5\n",
      "1    10\n",
      "2    15\n",
      "3    20\n",
      "dtype: int64\n"
     ]
    }
   ],
   "source": [
    "s = pd.Series([5,10,15,20])\n",
    "# pd.Series(값 목록, [인덱스])\n",
    "print(s)\n",
    "# 시리즈 생성시 인덱스를 따로 설정하지 않으면\n",
    "# 자동으로 생성된다"
   ]
  },
  {
   "cell_type": "markdown",
   "id": "5b05d5ae-0a1c-439d-be94-d16ce9476b3f",
   "metadata": {},
   "source": [
    "숫자 데이터를 시리즈로 만들어주세요  \n",
    "값은 [2,4,6,8] 이고, 인덱스는 자동으로 생성"
   ]
  },
  {
   "cell_type": "code",
   "execution_count": 11,
   "id": "d3433d3f-8ce2-46ff-90c1-821bbe6c9aee",
   "metadata": {},
   "outputs": [
    {
     "name": "stdout",
     "output_type": "stream",
     "text": [
      "0    2\n",
      "1    4\n",
      "2    6\n",
      "3    8\n",
      "dtype: int64\n"
     ]
    }
   ],
   "source": [
    "s = pd.Series([2,4,6,8])\n",
    "print(s)"
   ]
  },
  {
   "cell_type": "markdown",
   "id": "af493c1f-c30d-44f4-9894-9d1fcb4b28b0",
   "metadata": {},
   "source": [
    "(2번)  \n",
    "성적 데이터를 시리즈로 만들어주세요  \n",
    "값은 점수 [70,80,90] 이고, 인덱스는 과목 ['국어', '영어', '수학'] 입니다."
   ]
  },
  {
   "cell_type": "code",
   "execution_count": 19,
   "id": "19802c8b-3c61-439d-9e3f-b59535efcb40",
   "metadata": {},
   "outputs": [
    {
     "data": {
      "text/plain": [
       "국어    70\n",
       "영어    80\n",
       "수학    90\n",
       "dtype: int64"
      ]
     },
     "execution_count": 19,
     "metadata": {},
     "output_type": "execute_result"
    }
   ],
   "source": [
    "s = pd.Series([70,80,90], index=['국어','영어','수학'])\n",
    "s"
   ]
  },
  {
   "cell_type": "code",
   "execution_count": 20,
   "id": "bfdc5be3-593a-4285-a85b-fa142eff7ea5",
   "metadata": {},
   "outputs": [
    {
     "name": "stdout",
     "output_type": "stream",
     "text": [
      "70\n",
      "국어    70\n",
      "영어    80\n",
      "수학    75\n",
      "dtype: int64\n"
     ]
    }
   ],
   "source": [
    "# 1. 국어점수 조회(70)\n",
    "print(s.loc['국어'])\n",
    "s.iloc[0]\n",
    "# 2. 수학점수 75로 수정\n",
    "s['수학'] = 75\n",
    "print(s)"
   ]
  },
  {
   "cell_type": "markdown",
   "id": "c8f1b29d-bed8-4fb6-a091-333ac0210ca4",
   "metadata": {},
   "source": [
    "(3번)  \n",
    "계절별 평균 기온 데이터를 시리즈  \n",
    "값은 기온 [15,27,18] 이고, 인덱스는 계절 ['봄','여름','가을'] 입니다."
   ]
  },
  {
   "cell_type": "code",
   "execution_count": 26,
   "id": "4ad843df-2812-42a8-adff-423faf0ff9fb",
   "metadata": {},
   "outputs": [
    {
     "data": {
      "text/plain": [
       "봄     15\n",
       "여름    27\n",
       "가을    18\n",
       "dtype: int64"
      ]
     },
     "execution_count": 26,
     "metadata": {},
     "output_type": "execute_result"
    }
   ],
   "source": [
    "s = pd.Series([15,27,18], index=['봄','여름','가을'])\n",
    "s"
   ]
  },
  {
   "cell_type": "code",
   "execution_count": 28,
   "id": "4d2a0197-fe66-45af-aa56-7cce5f2d87d4",
   "metadata": {},
   "outputs": [
    {
     "data": {
      "text/plain": [
       "봄     15\n",
       "여름    27\n",
       "가을    20\n",
       "dtype: int64"
      ]
     },
     "execution_count": 28,
     "metadata": {},
     "output_type": "execute_result"
    }
   ],
   "source": [
    "# 1.봄기온 조회(15)\n",
    "s.loc['봄']\n",
    "\n",
    "# 2.가을 기온20으로 수정\n",
    "s.loc['가을']=20\n",
    "s"
   ]
  },
  {
   "cell_type": "markdown",
   "id": "8e985cdb-3377-4457-9bb4-a9e2b4cedad0",
   "metadata": {},
   "source": [
    "(4번)  \n",
    "일변 매출 데이터를 시리즈  \n",
    "값은 매출 [1000,1200,1300] 이고, 인덱스는 날짜 ['01-01','01-02','01-03'] 입니다."
   ]
  },
  {
   "cell_type": "code",
   "execution_count": 29,
   "id": "42fec5ab-7094-485a-819d-5ef761bee07e",
   "metadata": {},
   "outputs": [
    {
     "data": {
      "text/plain": [
       "01-01    1000\n",
       "01-02    1200\n",
       "01-03    1300\n",
       "dtype: int64"
      ]
     },
     "execution_count": 29,
     "metadata": {},
     "output_type": "execute_result"
    }
   ],
   "source": [
    "s = pd.Series([1000,1200,1300], index=['01-01','01-02','01-03'])\n",
    "s"
   ]
  },
  {
   "cell_type": "code",
   "execution_count": 31,
   "id": "d97ba63a-6dee-4f78-bae1-41eb4f33c9c0",
   "metadata": {},
   "outputs": [
    {
     "data": {
      "text/plain": [
       "01-01    1000\n",
       "01-02    1250\n",
       "01-03    1300\n",
       "dtype: int64"
      ]
     },
     "execution_count": 31,
     "metadata": {},
     "output_type": "execute_result"
    }
   ],
   "source": [
    "# 1월1일 매출 조회\n",
    "s.loc['01-01']\n",
    "# 1월2일 매출 1250으로 수정\n",
    "s.loc['01-02'] = 1250\n",
    "s"
   ]
  },
  {
   "cell_type": "markdown",
   "id": "1dd6f635-021e-4928-9c3f-8a71afa7e9c1",
   "metadata": {},
   "source": [
    "(5번)  \n",
    "요일변 매출 데이터를 시리즈  \n",
    "값은 매출 [300,400,500] 이고, 인덱스는 요일 ['월','화','수'] 입니다"
   ]
  },
  {
   "cell_type": "code",
   "execution_count": 33,
   "id": "972ab744-a0cd-407d-838a-f49c139d1cb5",
   "metadata": {},
   "outputs": [
    {
     "data": {
      "text/plain": [
       "월    300\n",
       "화    400\n",
       "수    500\n",
       "dtype: int64"
      ]
     },
     "execution_count": 33,
     "metadata": {},
     "output_type": "execute_result"
    }
   ],
   "source": [
    "s = pd.Series([300,400,500], index=['월','화','수'])\n",
    "s"
   ]
  },
  {
   "cell_type": "code",
   "execution_count": 36,
   "id": "1075c25c-17c3-4a50-8608-81af8576238d",
   "metadata": {},
   "outputs": [
    {
     "data": {
      "text/plain": [
       "월    300\n",
       "화    400\n",
       "수    550\n",
       "dtype: int64"
      ]
     },
     "execution_count": 36,
     "metadata": {},
     "output_type": "execute_result"
    }
   ],
   "source": [
    "# 1. 화욜 매출 조회(400)\n",
    "s.loc['화']\n",
    "# 2. 수욜 매출 550으로 수정\n",
    "s['수'] = 550\n",
    "s"
   ]
  },
  {
   "cell_type": "markdown",
   "id": "8fe61bee-0445-4cbe-897f-45bbf56c0350",
   "metadata": {},
   "source": [
    "### 시리즈의 계산과 조건검색"
   ]
  },
  {
   "cell_type": "markdown",
   "id": "8f6d0b73-2ed2-4cd3-838e-05e5b1d4d5c1",
   "metadata": {},
   "source": [
    "### 1번"
   ]
  },
  {
   "cell_type": "code",
   "execution_count": 47,
   "id": "249e0ea4-a976-4d16-9129-e31fa2f22ee4",
   "metadata": {},
   "outputs": [
    {
     "name": "stdout",
     "output_type": "stream",
     "text": [
      "합계: 330\n",
      "평균: 82.5\n",
      "최고 점수: 90\n",
      "최저 점수: 75\n"
     ]
    }
   ],
   "source": [
    "s = pd.Series([80,90,75,85], index=['국어','영어','수학','과학'])\n",
    "s\n",
    "\n",
    "# 1. 총점\n",
    "print('합계:',s.sum())\n",
    "# 2. 평균점수\n",
    "print('평균:',s.mean())\n",
    "# 3. 가장 높은점수\n",
    "print('최고 점수:',s.max())\n",
    "# 4. 가장 낮은점수\n",
    "print('최저 점수:',s.min())"
   ]
  },
  {
   "cell_type": "markdown",
   "id": "a7deaa6c-42a9-4d5a-9784-432541014257",
   "metadata": {},
   "source": [
    "### 2번"
   ]
  },
  {
   "cell_type": "code",
   "execution_count": 49,
   "id": "02c94433-0ae6-467b-bdbf-0812fcae62a0",
   "metadata": {},
   "outputs": [
    {
     "data": {
      "text/plain": [
       "월    2\n",
       "화    5\n",
       "수   -1\n",
       "목    0\n",
       "금    7\n",
       "토   -3\n",
       "일    4\n",
       "dtype: int64"
      ]
     },
     "execution_count": 49,
     "metadata": {},
     "output_type": "execute_result"
    }
   ],
   "source": [
    "s = pd.Series([2,5,-1,0,7,-3,4], index=['월','화','수','목','금','토','일'])\n",
    "s"
   ]
  },
  {
   "cell_type": "code",
   "execution_count": 52,
   "id": "5bd28e1d-45cc-46bf-8850-7d92cd33514b",
   "metadata": {},
   "outputs": [
    {
     "data": {
      "text/plain": [
       "월    2\n",
       "화    5\n",
       "목    0\n",
       "금    7\n",
       "일    4\n",
       "dtype: int64"
      ]
     },
     "execution_count": 52,
     "metadata": {},
     "output_type": "execute_result"
    }
   ],
   "source": [
    "# 조건검색(영상)\n",
    "# 시리즈>=int => 시리즈 전체데이터에 비교식이 적용됨 => bool 배열반환\n",
    "s>=0\n",
    "# 시리즈에 bool배열을 인덱스로 사용\n",
    "s[s>=0]"
   ]
  },
  {
   "cell_type": "code",
   "execution_count": null,
   "id": "6e430bd8-b7ad-42db-9f4f-5a1e6ba2f343",
   "metadata": {},
   "outputs": [],
   "source": []
  }
 ],
 "metadata": {
  "kernelspec": {
   "display_name": "Python 3 (ipykernel)",
   "language": "python",
   "name": "python3"
  },
  "language_info": {
   "codemirror_mode": {
    "name": "ipython",
    "version": 3
   },
   "file_extension": ".py",
   "mimetype": "text/x-python",
   "name": "python",
   "nbconvert_exporter": "python",
   "pygments_lexer": "ipython3",
   "version": "3.10.18"
  }
 },
 "nbformat": 4,
 "nbformat_minor": 5
}
