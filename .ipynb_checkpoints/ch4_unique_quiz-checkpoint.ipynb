{
 "cells": [
  {
   "cell_type": "markdown",
   "id": "568cfd4c-1a23-49e2-b1d2-a186bce05279",
   "metadata": {},
   "source": [
    "### 문제1"
   ]
  },
  {
   "cell_type": "code",
   "execution_count": 1,
   "id": "1d6db1f1-9e96-4b92-99a2-4861f922914e",
   "metadata": {},
   "outputs": [],
   "source": [
    "import pandas as pd\n",
    "import numpy as np"
   ]
  },
  {
   "cell_type": "code",
   "execution_count": 3,
   "id": "d1720b24-9324-4701-8d73-5b606890b5bf",
   "metadata": {},
   "outputs": [
    {
     "data": {
      "text/plain": [
       "0    서울\n",
       "1    부산\n",
       "2    서울\n",
       "3    대구\n",
       "4    부산\n",
       "5    광주\n",
       "6    서울\n",
       "dtype: object"
      ]
     },
     "execution_count": 3,
     "metadata": {},
     "output_type": "execute_result"
    }
   ],
   "source": [
    "# 지역목록 시리즈\n",
    "s = pd.Series(['서울','부산','서울','대구','부산','광주','서울'])\n",
    "s"
   ]
  },
  {
   "cell_type": "code",
   "execution_count": 4,
   "id": "1d4ebfb2-69e0-43f8-a06f-4c39e6c831fd",
   "metadata": {},
   "outputs": [
    {
     "data": {
      "text/plain": [
       "array(['서울', '부산', '대구', '광주'], dtype=object)"
      ]
     },
     "execution_count": 4,
     "metadata": {},
     "output_type": "execute_result"
    }
   ],
   "source": [
    "s.unique()"
   ]
  },
  {
   "cell_type": "code",
   "execution_count": 5,
   "id": "cf95e4db-4a48-4e6e-8d7e-a7a8ef680ced",
   "metadata": {},
   "outputs": [
    {
     "data": {
      "text/plain": [
       "서울    3\n",
       "부산    2\n",
       "대구    1\n",
       "광주    1\n",
       "Name: count, dtype: int64"
      ]
     },
     "execution_count": 5,
     "metadata": {},
     "output_type": "execute_result"
    }
   ],
   "source": [
    "s.value_counts()"
   ]
  },
  {
   "cell_type": "markdown",
   "id": "e8b5bcbb-5ad4-4f68-b9f7-5157749485f5",
   "metadata": {},
   "source": [
    "### 문제2"
   ]
  },
  {
   "cell_type": "code",
   "execution_count": 6,
   "id": "2881d152-2fe7-4161-9124-44b6a8677a86",
   "metadata": {},
   "outputs": [
    {
     "data": {
      "text/plain": [
       "0    민수\n",
       "1    지연\n",
       "2    철수\n",
       "3    민수\n",
       "4    영희\n",
       "5    민수\n",
       "6    지연\n",
       "dtype: object"
      ]
     },
     "execution_count": 6,
     "metadata": {},
     "output_type": "execute_result"
    }
   ],
   "source": [
    "# 이름 목록 시리즈\n",
    "s = pd.Series(['민수','지연','철수','민수','영희','민수','지연'])\n",
    "s"
   ]
  },
  {
   "cell_type": "code",
   "execution_count": 12,
   "id": "771e6177-b38c-4180-8654-e485801c4ae9",
   "metadata": {},
   "outputs": [
    {
     "data": {
      "text/plain": [
       "pandas.core.series.Series"
      ]
     },
     "execution_count": 12,
     "metadata": {},
     "output_type": "execute_result"
    }
   ],
   "source": [
    "result=s.value_counts()\n",
    "type(result)"
   ]
  },
  {
   "cell_type": "code",
   "execution_count": 13,
   "id": "cd2c82bc-d565-4c78-b127-29f6dbfb10b9",
   "metadata": {},
   "outputs": [
    {
     "data": {
      "text/plain": [
       "3"
      ]
     },
     "execution_count": 13,
     "metadata": {},
     "output_type": "execute_result"
    }
   ],
   "source": [
    "# 판다스의 Series는 통계함수를 사용할 수 있다\n",
    "# sum mean max min\n",
    "result.max()"
   ]
  },
  {
   "cell_type": "code",
   "execution_count": null,
   "id": "ce0f10c0-0b79-4537-b31e-c346a3d6cc54",
   "metadata": {},
   "outputs": [],
   "source": []
  }
 ],
 "metadata": {
  "kernelspec": {
   "display_name": "Python 3 (ipykernel)",
   "language": "python",
   "name": "python3"
  },
  "language_info": {
   "codemirror_mode": {
    "name": "ipython",
    "version": 3
   },
   "file_extension": ".py",
   "mimetype": "text/x-python",
   "name": "python",
   "nbconvert_exporter": "python",
   "pygments_lexer": "ipython3",
   "version": "3.10.18"
  }
 },
 "nbformat": 4,
 "nbformat_minor": 5
}
