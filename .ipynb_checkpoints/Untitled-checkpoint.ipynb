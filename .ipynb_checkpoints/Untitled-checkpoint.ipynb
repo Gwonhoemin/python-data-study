{
 "cells": [
  {
   "cell_type": "markdown",
   "id": "ab552b66-ce25-4800-9ba9-d9add9437462",
   "metadata": {},
   "source": [
    "## numpy 연습문제\n",
    "p.21,22"
   ]
  },
  {
   "cell_type": "code",
   "execution_count": 16,
   "id": "63f1882f-d997-441c-a716-5cbec1e6e0b1",
   "metadata": {},
   "outputs": [
    {
     "name": "stdout",
     "output_type": "stream",
     "text": [
      "2000\n",
      "500.0\n"
     ]
    },
    {
     "data": {
      "text/plain": [
       "array([['김밥', '라면', '떡볶이', '치킨']], dtype='<U3')"
      ]
     },
     "execution_count": 16,
     "metadata": {},
     "output_type": "execute_result"
    }
   ],
   "source": [
    "import numpy as np\n",
    "# 하루 동안 먹은 음식들의 칼로리(kcal)\n",
    "food = ['김밥','라면','떡볶이','치킨']\n",
    "kcal = [250, 550, 400, 800]\n",
    "array_food = np.array(food)\n",
    "array_kcal = np.array(kcal)\n",
    "\n",
    "# 하루 먹은 음식의 총 kcal 몇?\n",
    "print(np.sum(array_kcal))\n",
    "\n",
    "# 음식 4개의 평균 kcal\n",
    "print(np.mean(array_kcal))\n",
    "\n",
    "# 칼로리가 가장 높은 음식 몇 Kcal?\n",
    "food=np.max(array_kcal)\n",
    "array_food[food==np.max(array_kcal)]"
   ]
  },
  {
   "cell_type": "code",
   "execution_count": null,
   "id": "989832af-89db-4085-bb5d-d34d39ed006f",
   "metadata": {},
   "outputs": [],
   "source": []
  }
 ],
 "metadata": {
  "kernelspec": {
   "display_name": "Python 3 (ipykernel)",
   "language": "python",
   "name": "python3"
  },
  "language_info": {
   "codemirror_mode": {
    "name": "ipython",
    "version": 3
   },
   "file_extension": ".py",
   "mimetype": "text/x-python",
   "name": "python",
   "nbconvert_exporter": "python",
   "pygments_lexer": "ipython3",
   "version": "3.10.18"
  }
 },
 "nbformat": 4,
 "nbformat_minor": 5
}
