{
 "cells": [
  {
   "cell_type": "markdown",
   "id": "e5b35460-31c3-4019-8ad7-14f508ec82b1",
   "metadata": {},
   "source": [
    "### 1번  \n"
   ]
  },
  {
   "cell_type": "markdown",
   "id": "a9bd2a0d-95ec-4181-93f2-43a2ae804724",
   "metadata": {},
   "source": [
    "학생 성적 데이터를 데이터프레임으로 만들어주세요  \n",
    "첫 번째 열은 학생 이름:[\"철수\",\"영희\",\"민수\"]  \n",
    "두 번째 열은 수학 점수 : [85,90,78]  "
   ]
  },
  {
   "cell_type": "code",
   "execution_count": 30,
   "id": "02eb3a69-4edb-4871-8327-0aee323f0058",
   "metadata": {},
   "outputs": [],
   "source": [
    "import pandas as pd\n",
    "import numpy as np"
   ]
  },
  {
   "cell_type": "code",
   "execution_count": 15,
   "id": "aaefd275-b30f-4b4d-86bf-a2c908a0cca8",
   "metadata": {},
   "outputs": [
    {
     "name": "stdout",
     "output_type": "stream",
     "text": [
      "  name  math\n",
      "0   철수    85\n",
      "1   영희    90\n",
      "2   민수    78\n",
      "RangeIndex(start=0, stop=3, step=1)\n",
      "Index(['name', 'math'], dtype='object')\n"
     ]
    }
   ],
   "source": [
    "grade = { \"name\":[\"철수\",\"영희\",\"민수\"], \"math\":[85,90,78]}\n",
    "\n",
    "df = pd.DataFrame(grade)\n",
    "print(df)\n",
    "# 행/열 이름 확인\n",
    "print(df.index)\n",
    "print(df.columns)"
   ]
  },
  {
   "cell_type": "markdown",
   "id": "dc87e14f-6f17-4c68-9b86-ea59baa9a581",
   "metadata": {},
   "source": [
    "요일별 매출 데이터를 데이터 프레임으로 만들어주세요  \n",
    "첫 번째 열은 요일: [\"월\",\"화\",\"수\"]  \n",
    "두 번째 열은 매출:[1000,1200,900]"
   ]
  },
  {
   "cell_type": "code",
   "execution_count": 11,
   "id": "078d7c2c-f307-4939-b8dd-94fe12e8d4bb",
   "metadata": {},
   "outputs": [
    {
     "data": {
      "text/html": [
       "<div>\n",
       "<style scoped>\n",
       "    .dataframe tbody tr th:only-of-type {\n",
       "        vertical-align: middle;\n",
       "    }\n",
       "\n",
       "    .dataframe tbody tr th {\n",
       "        vertical-align: top;\n",
       "    }\n",
       "\n",
       "    .dataframe thead th {\n",
       "        text-align: right;\n",
       "    }\n",
       "</style>\n",
       "<table border=\"1\" class=\"dataframe\">\n",
       "  <thead>\n",
       "    <tr style=\"text-align: right;\">\n",
       "      <th></th>\n",
       "      <th>day</th>\n",
       "      <th>sales</th>\n",
       "    </tr>\n",
       "  </thead>\n",
       "  <tbody>\n",
       "    <tr>\n",
       "      <th>0</th>\n",
       "      <td>월</td>\n",
       "      <td>1000</td>\n",
       "    </tr>\n",
       "    <tr>\n",
       "      <th>1</th>\n",
       "      <td>화</td>\n",
       "      <td>1200</td>\n",
       "    </tr>\n",
       "    <tr>\n",
       "      <th>2</th>\n",
       "      <td>수</td>\n",
       "      <td>900</td>\n",
       "    </tr>\n",
       "  </tbody>\n",
       "</table>\n",
       "</div>"
      ],
      "text/plain": [
       "  day  sales\n",
       "0   월   1000\n",
       "1   화   1200\n",
       "2   수    900"
      ]
     },
     "execution_count": 11,
     "metadata": {},
     "output_type": "execute_result"
    }
   ],
   "source": [
    "total = { \"day\":[\"월\",\"화\",\"수\"], \"sales\":[1000,1200,900]}\n",
    "\n",
    "df = pd.DataFrame(total)\n",
    "df"
   ]
  },
  {
   "cell_type": "markdown",
   "id": "b08b856d-906a-42a5-ac51-3ea3c34750b3",
   "metadata": {},
   "source": [
    "### 2번"
   ]
  },
  {
   "cell_type": "markdown",
   "id": "f5876821-6574-4adf-a8c6-ef9682bedeed",
   "metadata": {},
   "source": [
    "과일 판매 데이터를 데이터프레임  \n",
    "값은 [[30,50], [20,40]]  \n",
    "행 이름은 ['사과','배']  \n",
    "열 이름은 ['판매량', '재고']"
   ]
  },
  {
   "cell_type": "code",
   "execution_count": 45,
   "id": "8b2c9c87-91b8-45b7-aadb-97af4e5cc8e6",
   "metadata": {},
   "outputs": [
    {
     "name": "stdout",
     "output_type": "stream",
     "text": [
      "    판매량  재고\n",
      "사과   30  50\n",
      "배    20  40\n",
      "    판매량  재고    가격\n",
      "사과   30  50  1000\n",
      "배    20  40  1200\n"
     ]
    },
    {
     "data": {
      "text/html": [
       "<div>\n",
       "<style scoped>\n",
       "    .dataframe tbody tr th:only-of-type {\n",
       "        vertical-align: middle;\n",
       "    }\n",
       "\n",
       "    .dataframe tbody tr th {\n",
       "        vertical-align: top;\n",
       "    }\n",
       "\n",
       "    .dataframe thead th {\n",
       "        text-align: right;\n",
       "    }\n",
       "</style>\n",
       "<table border=\"1\" class=\"dataframe\">\n",
       "  <thead>\n",
       "    <tr style=\"text-align: right;\">\n",
       "      <th></th>\n",
       "      <th>판매량</th>\n",
       "      <th>불량</th>\n",
       "      <th>재고</th>\n",
       "      <th>가격</th>\n",
       "    </tr>\n",
       "  </thead>\n",
       "  <tbody>\n",
       "    <tr>\n",
       "      <th>사과</th>\n",
       "      <td>30</td>\n",
       "      <td>2</td>\n",
       "      <td>50</td>\n",
       "      <td>1000</td>\n",
       "    </tr>\n",
       "    <tr>\n",
       "      <th>배</th>\n",
       "      <td>20</td>\n",
       "      <td>3</td>\n",
       "      <td>40</td>\n",
       "      <td>1200</td>\n",
       "    </tr>\n",
       "  </tbody>\n",
       "</table>\n",
       "</div>"
      ],
      "text/plain": [
       "    판매량  불량  재고    가격\n",
       "사과   30   2  50  1000\n",
       "배    20   3  40  1200"
      ]
     },
     "execution_count": 45,
     "metadata": {},
     "output_type": "execute_result"
    }
   ],
   "source": [
    "# 과일 판매량 데이터 만들기(dic 또는 list)\n",
    "# dic방식\n",
    "\n",
    "# data = {'판매량':[30,50], '재고':[20,40]}\n",
    "# df = pd.DataFrame(data, index=['사과','배'])\n",
    "# df\n",
    "\n",
    "# list방식\n",
    "data = np.array([[30,50], [20,40]])\n",
    "df = pd.DataFrame(data, index=['사과','배'], columns=['판매량','재고'])\n",
    "print(df)\n",
    "\n",
    "# 1. 사과의 판매량 조회\n",
    "df.loc['사과','판매량']\n",
    "\n",
    "# 2. 새로운 열 '가격' 추가하고, 사과1000원, 배는1200원 입력\n",
    "df['가격'] = [1000,1200]\n",
    "print(df)\n",
    "\n",
    "df.insert(1,'불량',[2,3])\n",
    "df\n",
    "\n"
   ]
  },
  {
   "cell_type": "markdown",
   "id": "a9d8dea1-10c0-4bb4-acc4-e7e882d459c8",
   "metadata": {},
   "source": [
    "### 3번\n",
    "도시 데이터를 데이터프레임  \n",
    "값은 [[950,1200], [500,800]]  \n",
    "행 이름 : ['서울','부산']  \n",
    "열 이름 : ['인구','면적']"
   ]
  },
  {
   "cell_type": "code",
   "execution_count": 28,
   "id": "80ba3f72-dd03-4bf0-ada5-bceabc7e176d",
   "metadata": {},
   "outputs": [
    {
     "name": "stdout",
     "output_type": "stream",
     "text": [
      "      인구   면적\n",
      "서울   950  500\n",
      "부산  1200  800\n"
     ]
    },
    {
     "data": {
      "text/html": [
       "<div>\n",
       "<style scoped>\n",
       "    .dataframe tbody tr th:only-of-type {\n",
       "        vertical-align: middle;\n",
       "    }\n",
       "\n",
       "    .dataframe tbody tr th {\n",
       "        vertical-align: top;\n",
       "    }\n",
       "\n",
       "    .dataframe thead th {\n",
       "        text-align: right;\n",
       "    }\n",
       "</style>\n",
       "<table border=\"1\" class=\"dataframe\">\n",
       "  <thead>\n",
       "    <tr style=\"text-align: right;\">\n",
       "      <th></th>\n",
       "      <th>인구</th>\n",
       "      <th>면적</th>\n",
       "      <th>특산물</th>\n",
       "    </tr>\n",
       "  </thead>\n",
       "  <tbody>\n",
       "    <tr>\n",
       "      <th>서울</th>\n",
       "      <td>950</td>\n",
       "      <td>500</td>\n",
       "      <td>김치</td>\n",
       "    </tr>\n",
       "    <tr>\n",
       "      <th>부산</th>\n",
       "      <td>1200</td>\n",
       "      <td>800</td>\n",
       "      <td>어묵</td>\n",
       "    </tr>\n",
       "  </tbody>\n",
       "</table>\n",
       "</div>"
      ],
      "text/plain": [
       "      인구   면적 특산물\n",
       "서울   950  500  김치\n",
       "부산  1200  800  어묵"
      ]
     },
     "execution_count": 28,
     "metadata": {},
     "output_type": "execute_result"
    }
   ],
   "source": [
    "data = {'인구':[950,1200], '면적':[500,800]}\n",
    "df = pd.DataFrame(data, index=['서울','부산'])\n",
    "print(df)\n",
    "\n",
    "# 1.서울의 면적 조회(1200)\n",
    "df.loc['서울','면적']\n",
    "# 2. 새로운 열 '특산물' 추가하고, 서울 '김치',부산 '어묵'입력\n",
    "df['특산물'] = ['김치','어묵']\n",
    "df"
   ]
  },
  {
   "cell_type": "markdown",
   "id": "337295cb-ee66-4ce6-a661-5d8a60754750",
   "metadata": {},
   "source": [
    "### 4번\n",
    "도시 데이터 데이터프레임  \n",
    "값 : [[15000, '홍길동전'], [20000,'해리포터']]  \n",
    "행 : ['책1','책2']  \n",
    "열 : ['가격', '제목']"
   ]
  },
  {
   "cell_type": "code",
   "execution_count": 39,
   "id": "3f2019fd-df6a-4a8f-83d5-0b1600a0c630",
   "metadata": {},
   "outputs": [
    {
     "name": "stdout",
     "output_type": "stream",
     "text": [
      "       가격    제목\n",
      "책1  15000  홍길동전\n",
      "책2  20000  해리포터\n",
      "20000\n",
      "       가격      저자    제목\n",
      "책1  15000      허균  홍길동전\n",
      "책2  20000  J.K 롤링  해리포터\n"
     ]
    }
   ],
   "source": [
    "data = np.array([[15000,'홍길동전'], [20000,'해리포터']])\n",
    "df = pd.DataFrame(data, index=['책1','책2'], columns=['가격','제목'])\n",
    "print(df)\n",
    "\n",
    "# 1. 책2의 가격 조회\n",
    "print(df.loc['책2','가격'])\n",
    "# 2. 새로운 열 '저자'를 가격 뒤에 추가, 책 1은 '허균' 책2는 'J.K. 롤링' 입력\n",
    "df.insert(1,'저자',['허균','J.K 롤링'])\n",
    "print(df)"
   ]
  },
  {
   "cell_type": "markdown",
   "id": "2364d31c-1c27-4f57-9271-5d442049d118",
   "metadata": {},
   "source": [
    "### 5번  \n",
    "영화 데이터 데이터프레임  \n",
    "값은 [[9.0, 14000], [8.2, 9500]]  \n",
    "행 이름은 ['기생충', '인터스텔라']  \n",
    "열 이름은 ['평점','관객수']"
   ]
  },
  {
   "cell_type": "code",
   "execution_count": 51,
   "id": "adfa32df-f762-4e66-9280-92bdd0b3b192",
   "metadata": {},
   "outputs": [
    {
     "name": "stdout",
     "output_type": "stream",
     "text": [
      "        평점      관객수\n",
      "기생충    9.0  14000.0\n",
      "인터스텔라  8.2   9500.0\n",
      "9.0\n"
     ]
    },
    {
     "data": {
      "text/html": [
       "<div>\n",
       "<style scoped>\n",
       "    .dataframe tbody tr th:only-of-type {\n",
       "        vertical-align: middle;\n",
       "    }\n",
       "\n",
       "    .dataframe tbody tr th {\n",
       "        vertical-align: top;\n",
       "    }\n",
       "\n",
       "    .dataframe thead th {\n",
       "        text-align: right;\n",
       "    }\n",
       "</style>\n",
       "<table border=\"1\" class=\"dataframe\">\n",
       "  <thead>\n",
       "    <tr style=\"text-align: right;\">\n",
       "      <th></th>\n",
       "      <th>평점</th>\n",
       "    </tr>\n",
       "  </thead>\n",
       "  <tbody>\n",
       "    <tr>\n",
       "      <th>기생충</th>\n",
       "      <td>9.0</td>\n",
       "    </tr>\n",
       "    <tr>\n",
       "      <th>인터스텔라</th>\n",
       "      <td>8.2</td>\n",
       "    </tr>\n",
       "  </tbody>\n",
       "</table>\n",
       "</div>"
      ],
      "text/plain": [
       "        평점\n",
       "기생충    9.0\n",
       "인터스텔라  8.2"
      ]
     },
     "execution_count": 51,
     "metadata": {},
     "output_type": "execute_result"
    }
   ],
   "source": [
    "data = np.array([[9.0, 14000], [8.2, 9500]])\n",
    "df = pd.DataFrame(data, index=['기생충','인터스텔라'], columns=['평점','관객수'])\n",
    "print(df)\n",
    "\n",
    "# 1. 영화 기생충의 평점을 조회\n",
    "print(df.loc['기생충','평점'])\n",
    "\n",
    "# 2. '관객수' 열을 삭제\n",
    "# drop (행또는열 이름, 방향)\n",
    "# drop은 원본에는 영향이 없다.\n",
    "# 결과를 원본에 덮어 씌우기\n",
    "df = df.drop('관객수', axis=1)\n",
    "df\n",
    "\n",
    "# del\n",
    "# del df['관객수']\n",
    "# df"
   ]
  },
  {
   "cell_type": "markdown",
   "id": "69aec806-ea13-4719-9822-c68c93cf8f74",
   "metadata": {},
   "source": [
    "### 데이터 프레임의 계산과 조건검색"
   ]
  },
  {
   "cell_type": "markdown",
   "id": "a863bef2-c2e3-4bfc-8102-7a1f4e89a1e3",
   "metadata": {},
   "source": [
    "### 1번"
   ]
  },
  {
   "cell_type": "code",
   "execution_count": 56,
   "id": "dce5c924-5d85-4815-857b-2d9ced168ca3",
   "metadata": {},
   "outputs": [
    {
     "name": "stdout",
     "output_type": "stream",
     "text": [
      "           관객수   평점\n",
      "기생충    12000.0  9.0\n",
      "인터스텔라   8000.0  8.5\n",
      "아바타    15000.0  9.3\n"
     ]
    },
    {
     "data": {
      "text/html": [
       "<div>\n",
       "<style scoped>\n",
       "    .dataframe tbody tr th:only-of-type {\n",
       "        vertical-align: middle;\n",
       "    }\n",
       "\n",
       "    .dataframe tbody tr th {\n",
       "        vertical-align: top;\n",
       "    }\n",
       "\n",
       "    .dataframe thead th {\n",
       "        text-align: right;\n",
       "    }\n",
       "</style>\n",
       "<table border=\"1\" class=\"dataframe\">\n",
       "  <thead>\n",
       "    <tr style=\"text-align: right;\">\n",
       "      <th></th>\n",
       "      <th>관객수</th>\n",
       "      <th>평점</th>\n",
       "    </tr>\n",
       "  </thead>\n",
       "  <tbody>\n",
       "    <tr>\n",
       "      <th>기생충</th>\n",
       "      <td>12000.0</td>\n",
       "      <td>9.0</td>\n",
       "    </tr>\n",
       "    <tr>\n",
       "      <th>아바타</th>\n",
       "      <td>15000.0</td>\n",
       "      <td>9.3</td>\n",
       "    </tr>\n",
       "  </tbody>\n",
       "</table>\n",
       "</div>"
      ],
      "text/plain": [
       "         관객수   평점\n",
       "기생충  12000.0  9.0\n",
       "아바타  15000.0  9.3"
      ]
     },
     "execution_count": 56,
     "metadata": {},
     "output_type": "execute_result"
    }
   ],
   "source": [
    "data = np.array([[12000,9.0],[8000,8.5],[15000,9.3]])\n",
    "df = pd.DataFrame(data, index=['기생충','인터스텔라','아바타'],\n",
    "                  columns=['관객수','평점'])\n",
    "print(df)\n",
    "# 1. 모든 영화의 관객수에 1000명을 추가\n",
    "df['관객수']+1000\n",
    "# 2. 평점이 9.0이상인 영화만 조회\n",
    "df['평점']>=9.0\n",
    "df[df['평점']>=9.0]"
   ]
  },
  {
   "cell_type": "markdown",
   "id": "199031db-7330-4251-8b68-d408bb473856",
   "metadata": {},
   "source": [
    "### 2번"
   ]
  },
  {
   "cell_type": "code",
   "execution_count": 95,
   "id": "0cf63fff-3a00-4848-9892-d1cf1b41c9ae",
   "metadata": {},
   "outputs": [
    {
     "name": "stdout",
     "output_type": "stream",
     "text": [
      "    1월 매출  2월 매출\n",
      "치마  25000  30000\n",
      "바지  40000  15000\n",
      "    1월 매출  2월 매출     합계\n",
      "치마  25000  30000  55000\n",
      "바지  40000  15000  55000\n"
     ]
    },
    {
     "data": {
      "text/html": [
       "<div>\n",
       "<style scoped>\n",
       "    .dataframe tbody tr th:only-of-type {\n",
       "        vertical-align: middle;\n",
       "    }\n",
       "\n",
       "    .dataframe tbody tr th {\n",
       "        vertical-align: top;\n",
       "    }\n",
       "\n",
       "    .dataframe thead th {\n",
       "        text-align: right;\n",
       "    }\n",
       "</style>\n",
       "<table border=\"1\" class=\"dataframe\">\n",
       "  <thead>\n",
       "    <tr style=\"text-align: right;\">\n",
       "      <th></th>\n",
       "      <th>1월 매출</th>\n",
       "      <th>2월 매출</th>\n",
       "      <th>합계</th>\n",
       "      <th>합계(만원)</th>\n",
       "    </tr>\n",
       "  </thead>\n",
       "  <tbody>\n",
       "    <tr>\n",
       "      <th>치마</th>\n",
       "      <td>25000</td>\n",
       "      <td>30000</td>\n",
       "      <td>55000</td>\n",
       "      <td>5.5</td>\n",
       "    </tr>\n",
       "    <tr>\n",
       "      <th>바지</th>\n",
       "      <td>40000</td>\n",
       "      <td>15000</td>\n",
       "      <td>55000</td>\n",
       "      <td>5.5</td>\n",
       "    </tr>\n",
       "  </tbody>\n",
       "</table>\n",
       "</div>"
      ],
      "text/plain": [
       "    1월 매출  2월 매출     합계  합계(만원)\n",
       "치마  25000  30000  55000     5.5\n",
       "바지  40000  15000  55000     5.5"
      ]
     },
     "execution_count": 95,
     "metadata": {},
     "output_type": "execute_result"
    }
   ],
   "source": [
    "data = np.array([[25000,30000],[40000,15000]])\n",
    "df = pd.DataFrame(data, index=['치마','바지'],columns=['1월 매출','2월 매출'])\n",
    "print(df)\n",
    "\n",
    "# 1. 새로운 열 '합계' 추가하여 1월과 2월 매출의 합\n",
    "df['1월 매출'] + df['2월 매출']\n",
    "# 시리즈 끼리 더하면, 인덱스를 기준으로 합계가 나옴\n",
    "df['합계'] = df['1월 매출'] + df['2월 매출']\n",
    "print(df)\n",
    "# 2. '합계'를 만원단위로 바꾼 새로운 열 '합계(만원)'을 추가\n",
    "df['합계(만원)'] = df['합계'] / 10000\n",
    "df"
   ]
  },
  {
   "cell_type": "code",
   "execution_count": null,
   "id": "4c6e5913-4e0a-4c6a-be4c-bb40fe50cf80",
   "metadata": {},
   "outputs": [],
   "source": []
  }
 ],
 "metadata": {
  "kernelspec": {
   "display_name": "Python 3 (ipykernel)",
   "language": "python",
   "name": "python3"
  },
  "language_info": {
   "codemirror_mode": {
    "name": "ipython",
    "version": 3
   },
   "file_extension": ".py",
   "mimetype": "text/x-python",
   "name": "python",
   "nbconvert_exporter": "python",
   "pygments_lexer": "ipython3",
   "version": "3.10.18"
  }
 },
 "nbformat": 4,
 "nbformat_minor": 5
}
