{
 "cells": [
  {
   "cell_type": "markdown",
   "id": "bc20396c-5d6f-4778-a8a0-a3a0d6117171",
   "metadata": {},
   "source": [
    "## 3. 넘파이\n",
    "넘파이란? 다차원배열과 수학함수를 제공하는 모듈(라이브러리)   \n",
    "모듈이란? 필요한 기능을 미리 만들어두고 가져다 쓰는 것  "
   ]
  },
  {
   "cell_type": "markdown",
   "id": "5d9be921-bee4-4b37-bdcd-9c72889b693f",
   "metadata": {},
   "source": [
    "3.1 ndarry  \n",
    "다차원 배열  \n",
    "다차원 배열의 특징:   \n",
    "1.리스트와 비교했을때 계산 속도가 빠름.  \n",
    "2.리스트와 달리 모든 요소의 타입이 같음.  "
   ]
  },
  {
   "cell_type": "code",
   "execution_count": 6,
   "id": "e3ec3927-f63c-499f-b202-b35c114e36d1",
   "metadata": {},
   "outputs": [],
   "source": [
    "# 먼저 numpy 모듈 가져오기\n",
    "# 외부에 있는 모듈 파일을 가지고 올때는 import\n",
    "# 모듈의 이름이 길때는 별칭 붙이기 as np\n",
    "import numpy as np"
   ]
  },
  {
   "cell_type": "code",
   "execution_count": 7,
   "id": "0c077940-f817-4768-b98f-c8aa1daae3dd",
   "metadata": {},
   "outputs": [
    {
     "data": {
      "text/plain": [
       "array(['a', 'b', 'c'], dtype='<U1')"
      ]
     },
     "execution_count": 7,
     "metadata": {},
     "output_type": "execute_result"
    }
   ],
   "source": [
    "# 넘파이 배열 만들기\n",
    "# 입력값: 리스트\n",
    "# 결과: 넘파이 배열\n",
    "a = np.array([1,2,3])\n",
    "a\n",
    "b = np.array(['a','b','c'])\n",
    "b"
   ]
  },
  {
   "cell_type": "markdown",
   "id": "2f18627c-1a11-4d2a-8b85-425382a7350f",
   "metadata": {},
   "source": [
    "2차원 배열\n"
   ]
  },
  {
   "cell_type": "code",
   "execution_count": 15,
   "id": "53336bff-5417-4bcf-b677-8aa022da9824",
   "metadata": {},
   "outputs": [
    {
     "data": {
      "text/plain": [
       "array([[1, 2, 3],\n",
       "       [4, 5, 6],\n",
       "       [7, 8, 9]])"
      ]
     },
     "execution_count": 15,
     "metadata": {},
     "output_type": "execute_result"
    }
   ],
   "source": [
    "# 2차원 배열 생성\n",
    "# 2차원 배열은 1차원 배열의 묶음\n",
    "c = np.array([[1,2,3],[4,5,6]])\n",
    "c\n",
    "# 3행 3열 크기의 2차원 배열 todtjd\n",
    "d = np.array([[1,2,3],[4,5,6],[7,8,9]])\n",
    "d"
   ]
  },
  {
   "cell_type": "code",
   "execution_count": 24,
   "id": "c40e5daa-597c-48ea-a09a-314a02bedc64",
   "metadata": {},
   "outputs": [
    {
     "data": {
      "text/plain": [
       "array([1, 3, 5, 7, 9])"
      ]
     },
     "execution_count": 24,
     "metadata": {},
     "output_type": "execute_result"
    }
   ],
   "source": [
    "# 주석 단축키 : cmd + /\n",
    "# arrange : 숫자 여러개를 생성하는 함수\n",
    "# 연속된 숫자 10개를 생성\n",
    "# 개수만 넣으면 0부터 시작됨\n",
    "a = np.arange(10)\n",
    "# 1부터 10까지 생성\n",
    "# 범위(시작,끝)\n",
    "b = np.arange(1,11)\n",
    "# 1부터 10까지 2씩 건너뛰면서 생성\n",
    "c = np.arange(1,11,2)\n",
    "c"
   ]
  },
  {
   "cell_type": "markdown",
   "id": "5b523fe4-92fc-47f3-a240-c7ba6e2b9342",
   "metadata": {},
   "source": [
    "## 연습문제"
   ]
  },
  {
   "cell_type": "code",
   "execution_count": 25,
   "id": "f519d0ef-8ed6-444e-9506-66c84d64667a",
   "metadata": {},
   "outputs": [
    {
     "data": {
      "text/plain": [
       "array([85, 90, 78, 92, 88])"
      ]
     },
     "execution_count": 25,
     "metadata": {},
     "output_type": "execute_result"
    }
   ],
   "source": [
    "# 파이썬 리스트 scores=[85,90,78,92,88]를 넘파이 배열로 변환하여 출력하세요\n",
    "scores=[85,90,78,92,88]\n",
    "n1 = np.array(scores)\n",
    "n1"
   ]
  },
  {
   "cell_type": "code",
   "execution_count": 28,
   "id": "44a80b10-a73f-4c6e-a65f-2cae18de2e41",
   "metadata": {},
   "outputs": [
    {
     "data": {
      "text/plain": [
       "array([160, 165, 170, 175, 180])"
      ]
     },
     "execution_count": 28,
     "metadata": {},
     "output_type": "execute_result"
    }
   ],
   "source": [
    "# 리스트 heights=[160,165,170,175,180]를 넘파이 배열로 변환하여 출력\n",
    "heights=[160,165,170,175,180]\n",
    "n2 = np.array(heights)\n",
    "n2"
   ]
  },
  {
   "cell_type": "code",
   "execution_count": 30,
   "id": "9d347dfc-eb0a-4e06-b722-d328b944baa8",
   "metadata": {},
   "outputs": [
    {
     "data": {
      "text/plain": [
       "array([1200, 1500, 1800, 2100])"
      ]
     },
     "execution_count": 30,
     "metadata": {},
     "output_type": "execute_result"
    }
   ],
   "source": [
    "# 리스트 prices=[1200,1500,1800,2100]를 넘파이 배열로 변환하여 출력\n",
    "prices=[1200,1500,1800,2100]\n",
    "n3 = np.array(prices)\n",
    "n3"
   ]
  },
  {
   "cell_type": "code",
   "execution_count": 31,
   "id": "af61d169-d079-4961-ac0a-3e682be08400",
   "metadata": {},
   "outputs": [
    {
     "data": {
      "text/plain": [
       "array([20, 22, 19, 25, 30])"
      ]
     },
     "execution_count": 31,
     "metadata": {},
     "output_type": "execute_result"
    }
   ],
   "source": [
    "# 리스트 temps=[20,22,19,25,30]를 넘파이 배열로 변환하여 출력\n",
    "temps=[20,22,19,25,30]\n",
    "n4 = np.array(temps)\n",
    "n4"
   ]
  },
  {
   "cell_type": "code",
   "execution_count": null,
   "id": "b579b5c4-8d2a-4591-a3b6-7c887a66d43c",
   "metadata": {},
   "outputs": [],
   "source": [
    "# arange는 파이썬의 range 함수와 비슷\n",
    "# arange(숫자) -> 갯수\n",
    "# arnage(시작,끝) -> 범위"
   ]
  },
  {
   "cell_type": "code",
   "execution_count": 38,
   "id": "d2fff845-579f-465f-bc75-7ded4762ef8d",
   "metadata": {},
   "outputs": [
    {
     "data": {
      "text/plain": [
       "array([0, 1, 2, 3, 4])"
      ]
     },
     "execution_count": 38,
     "metadata": {},
     "output_type": "execute_result"
    }
   ],
   "source": [
    "# 0부터 4까지 숫자를 원소로 가지는 배열 생성\n",
    "num1 = np.arange(5)\n",
    "num1"
   ]
  },
  {
   "cell_type": "code",
   "execution_count": 39,
   "id": "cbdd8807-1eaa-42a7-b545-f792748ba034",
   "metadata": {},
   "outputs": [
    {
     "data": {
      "text/plain": [
       "array([0, 1, 2, 3, 4, 5, 6, 7, 8, 9])"
      ]
     },
     "execution_count": 39,
     "metadata": {},
     "output_type": "execute_result"
    }
   ],
   "source": [
    "# 0부터 9까지 숫자를 원소로 가지는 배열 생성\n",
    "num2 = np.arange(10)\n",
    "num2"
   ]
  },
  {
   "cell_type": "code",
   "execution_count": 40,
   "id": "f9f7f94a-8a92-48a1-b6a0-7e86f8594e62",
   "metadata": {},
   "outputs": [
    {
     "data": {
      "text/plain": [
       "array([3, 4, 5, 6, 7])"
      ]
     },
     "execution_count": 40,
     "metadata": {},
     "output_type": "execute_result"
    }
   ],
   "source": [
    "# 3부터 7까지 숫자를 원소로 가지는 배열 생성\n",
    "num3 = np.arange(3,8)\n",
    "num3"
   ]
  },
  {
   "cell_type": "code",
   "execution_count": 41,
   "id": "e551a9b2-eadc-4500-ba28-e77bdee30373",
   "metadata": {},
   "outputs": [
    {
     "data": {
      "text/plain": [
       "array([-2, -1,  0,  1,  2])"
      ]
     },
     "execution_count": 41,
     "metadata": {},
     "output_type": "execute_result"
    }
   ],
   "source": [
    "num4 = np.arange(-2,3)\n",
    "num4"
   ]
  },
  {
   "cell_type": "markdown",
   "id": "c1f8365d-322d-4849-9e25-c22774f0c258",
   "metadata": {},
   "source": [
    "## 실습\n",
    "zeros,dtype,ndim,shape,astype,값 꺼내기,슬라이스"
   ]
  },
  {
   "cell_type": "code",
   "execution_count": 45,
   "id": "035e6de2-133f-4014-b76f-45cc34fa3ce2",
   "metadata": {},
   "outputs": [
    {
     "data": {
      "text/plain": [
       "array([[0., 0., 0.],\n",
       "       [0., 0., 0.],\n",
       "       [0., 0., 0.]])"
      ]
     },
     "execution_count": 45,
     "metadata": {},
     "output_type": "execute_result"
    }
   ],
   "source": [
    "# zeros : 배열을 생성하고 값을 0으로 초기화\n",
    "# 10개 크기의 배열 생성\n",
    "np.zeros(10)\n",
    "# 2차원 배열 생성\n",
    "np.zeros((3,3)) # 행 열"
   ]
  },
  {
   "cell_type": "code",
   "execution_count": 46,
   "id": "97a62f24-fcad-4631-b563-47807acc8b9c",
   "metadata": {},
   "outputs": [
    {
     "name": "stdout",
     "output_type": "stream",
     "text": [
      "int64\n",
      "1\n",
      "(3,)\n"
     ]
    }
   ],
   "source": [
    "# 3개 크기의 1차원 정수 배열 생성\n",
    "# 파이썬의 리스트와 달리 넘파이 배열은 모든 원소의 자료형이 같다\n",
    "a = np.array([1,2,3])\n",
    "# 배열의 정보를 확인\n",
    "print(a.dtype) # 자료형\n",
    "print(a.ndim)  # 배열의 차원\n",
    "print(a.shape) # 행열 크기"
   ]
  },
  {
   "cell_type": "code",
   "execution_count": 48,
   "id": "f1f4ceca-a595-4e94-a0cd-c75e8046ef96",
   "metadata": {},
   "outputs": [
    {
     "name": "stdout",
     "output_type": "stream",
     "text": [
      "int64\n",
      "2\n",
      "(2, 3)\n"
     ]
    }
   ],
   "source": [
    "# 2행 3열의 2차원 배열 생성\n",
    "b = np.array([[1,2,3],[4,5,6]])\n",
    "print(b.dtype)\n",
    "print(b.ndim)\n",
    "print(b.shape)"
   ]
  },
  {
   "cell_type": "code",
   "execution_count": 54,
   "id": "5188f0a6-2d1a-423a-ab55-efa786e6492f",
   "metadata": {},
   "outputs": [
    {
     "data": {
      "text/plain": [
       "dtype('int32')"
      ]
     },
     "execution_count": 54,
     "metadata": {},
     "output_type": "execute_result"
    }
   ],
   "source": [
    "# 실수형 1차원 배열 생성\n",
    "arr = np.array([1.1,2.1,3.1])\n",
    "# 자료형 확인\n",
    "arr.dtype\n",
    "# 배열의 형변환\n",
    "arr2 = arr.astype(np.int32)\n",
    "arr2.dtype"
   ]
  },
  {
   "cell_type": "code",
   "execution_count": 55,
   "id": "235d8a00-7878-40aa-b10c-a867e70cde5c",
   "metadata": {},
   "outputs": [
    {
     "name": "stdout",
     "output_type": "stream",
     "text": [
      "4\n",
      "5\n",
      "6\n"
     ]
    }
   ],
   "source": [
    "# 파이썬의 리스트 생성\n",
    "lis = [1,2,3]\n",
    "# 파이썬의 각 원소에 3씩 더하기\n",
    "# 리스트의 원소에 하나씩 계산하려면 for 반복문을 사용해야 한다..\n",
    "for i in lis:\n",
    "    print(i+3)"
   ]
  },
  {
   "cell_type": "code",
   "execution_count": 57,
   "id": "e6366db7-4785-49d0-9869-6e4dd504a332",
   "metadata": {},
   "outputs": [
    {
     "data": {
      "text/plain": [
       "array([4, 5, 6])"
      ]
     },
     "execution_count": 57,
     "metadata": {},
     "output_type": "execute_result"
    }
   ],
   "source": [
    "# 넘파이 배열 생성\n",
    "# 넘파이 배열은 for문 없이 각 원소에 값을 계산할 수 있다!\n",
    "# 넘파이 배열을 자동으로 각 원소에 반복 수행이 된다\n",
    "a = np.array([1,2,3])\n",
    "# 각 원소에 3씩 더하기\n",
    "a+3"
   ]
  },
  {
   "cell_type": "code",
   "execution_count": 58,
   "id": "187ce34c-c9e2-408a-9e86-c6ad331c5036",
   "metadata": {},
   "outputs": [
    {
     "data": {
      "text/plain": [
       "array([False, False, False])"
      ]
     },
     "execution_count": 58,
     "metadata": {},
     "output_type": "execute_result"
    }
   ],
   "source": [
    "a = np.array([1,2,3])\n",
    "b = np.array([4,5,6])\n",
    "\n",
    "# 배열 두개를 비교\n",
    "a>b"
   ]
  },
  {
   "cell_type": "markdown",
   "id": "be304c6f-9c67-4d65-8a4b-9a31b7ce4165",
   "metadata": {},
   "source": [
    "인덱스와 슬라이스"
   ]
  },
  {
   "cell_type": "code",
   "execution_count": 69,
   "id": "14e92f38-061c-4522-8d5e-eff6c0092e7f",
   "metadata": {},
   "outputs": [
    {
     "name": "stdout",
     "output_type": "stream",
     "text": [
      "[0 1 2 3 4 5 6 7 8 9]\n"
     ]
    },
    {
     "data": {
      "text/plain": [
       "array([ 0, 99,  2, 88, 88, 88,  6,  7,  8,  9])"
      ]
     },
     "execution_count": 69,
     "metadata": {},
     "output_type": "execute_result"
    }
   ],
   "source": [
    "# 0~9 숫자 만들고 1차원 배열 생성\n",
    "a = np.arange(10)\n",
    "print(a)\n",
    "# 배열의 원소 하나 꺼내기\n",
    "a[1]\n",
    "# 범위로 값 꺼내기(슬라이스)\n",
    "a[3:6]\n",
    "# 원소 값 변경하기\n",
    "# 두번째 원소의 값 변경하기\n",
    "a[1] = 99\n",
    "a\n",
    "# 특정 범위에 있는 값을 모두 변경하기\n",
    "# 3,4,5 번째 데이터 변경\n",
    "a[3:6] = 88\n",
    "a"
   ]
  },
  {
   "cell_type": "code",
   "execution_count": 70,
   "id": "9ee5c61b-2b0c-4e24-b2b4-dc23363caa09",
   "metadata": {},
   "outputs": [
    {
     "data": {
      "text/plain": [
       "array([999, 999, 999, 999, 999, 999, 999, 999, 999, 999])"
      ]
     },
     "execution_count": 70,
     "metadata": {},
     "output_type": "execute_result"
    }
   ],
   "source": [
    "# 슬라이스로 배열 전체를 선택하고 값 변경\n",
    "a[:] = 999\n",
    "a"
   ]
  },
  {
   "cell_type": "markdown",
   "id": "21ddbb69-2ad1-4b44-bb04-6a02d468c5ec",
   "metadata": {},
   "source": [
    "## 연습문제1"
   ]
  },
  {
   "cell_type": "code",
   "execution_count": 71,
   "id": "12b1e7d8-3643-4fa1-86f0-eaba647ed1e9",
   "metadata": {},
   "outputs": [],
   "source": [
    "arr = np.array([10,20,30,40,50])"
   ]
  },
  {
   "cell_type": "code",
   "execution_count": 74,
   "id": "7c3e9b8c-13b2-41cb-a6a5-66f160dcfc02",
   "metadata": {},
   "outputs": [
    {
     "name": "stdout",
     "output_type": "stream",
     "text": [
      "10\n",
      "30\n",
      "50\n"
     ]
    }
   ],
   "source": [
    "# 배열의 첫 번째 값 꺼내서 출력\n",
    "print(arr[0])\n",
    "# 배열의 세 번째 값 꺼내서 출력\n",
    "print(arr[2])\n",
    "# 배열의 마지막 값 꺼내서 출력\n",
    "print(arr[4])"
   ]
  },
  {
   "cell_type": "code",
   "execution_count": 75,
   "id": "c427f948-74bc-47ca-bc13-4c8c43a5e7c8",
   "metadata": {},
   "outputs": [
    {
     "data": {
      "text/plain": [
       "array([ 10, 200,  30,  40,  50])"
      ]
     },
     "execution_count": 75,
     "metadata": {},
     "output_type": "execute_result"
    }
   ],
   "source": [
    "# 배열의 두 번재 값을 200으로 바꾸세요\n",
    "arr[1] = 200\n",
    "arr"
   ]
  },
  {
   "cell_type": "code",
   "execution_count": 77,
   "id": "f84cbc37-8659-4c69-ba6a-a55a4b7b65f3",
   "metadata": {},
   "outputs": [
    {
     "data": {
      "text/plain": [
       "array([ 10, 200,  30, 999,  50])"
      ]
     },
     "execution_count": 77,
     "metadata": {},
     "output_type": "execute_result"
    }
   ],
   "source": [
    "# 배열의 네 번째 값을 999로 바꾸세요\n",
    "arr[3] = 999\n",
    "arr"
   ]
  },
  {
   "cell_type": "markdown",
   "id": "f6e68adc-6d24-4d00-b12f-aef14d446682",
   "metadata": {},
   "source": [
    "## 연습문제2"
   ]
  },
  {
   "cell_type": "code",
   "execution_count": 78,
   "id": "8e573b5e-b128-4cb2-a54c-64be2b147814",
   "metadata": {},
   "outputs": [],
   "source": [
    "arr = np.array([\"가\",\"나\",\"다\",\"라\",\"마\"])"
   ]
  },
  {
   "cell_type": "code",
   "execution_count": 83,
   "id": "49654f8c-71d8-4515-9a0e-5ca82ac6d360",
   "metadata": {},
   "outputs": [
    {
     "name": "stdout",
     "output_type": "stream",
     "text": [
      "나\n",
      "라\n",
      "마\n"
     ]
    }
   ],
   "source": [
    "# 배열의 두 번째 값을 꺼내서 출력\n",
    "print(arr[1])\n",
    "# 배열의 네 번째 값을 꺼내서 출력\n",
    "print(arr[3])\n",
    "# 배열의 마지막 값을 꺼내서 출력\n",
    "print(arr[-1])"
   ]
  },
  {
   "cell_type": "code",
   "execution_count": 81,
   "id": "8d009646-c048-4f35-a6c8-eec24d7852b7",
   "metadata": {},
   "outputs": [
    {
     "data": {
      "text/plain": [
       "array(['하', '나', '다', '라', '마'], dtype='<U1')"
      ]
     },
     "execution_count": 81,
     "metadata": {},
     "output_type": "execute_result"
    }
   ],
   "source": [
    "# 배열의 첫 번째 값을 '하'로 바꾸세요\n",
    "arr[0] = '하'\n",
    "arr"
   ]
  },
  {
   "cell_type": "code",
   "execution_count": 82,
   "id": "c3c486cf-a593-4587-9d86-bd0c4bd565d1",
   "metadata": {},
   "outputs": [
    {
     "data": {
      "text/plain": [
       "array(['하', '나', '호', '라', '마'], dtype='<U1')"
      ]
     },
     "execution_count": 82,
     "metadata": {},
     "output_type": "execute_result"
    }
   ],
   "source": [
    "# 배열의 세 번째 값을 '호'로 바꾸세요\n",
    "arr[2] = '호'\n",
    "arr"
   ]
  },
  {
   "cell_type": "markdown",
   "id": "07466d91-32eb-40da-8c00-f170ea534c0a",
   "metadata": {},
   "source": [
    "## 연습문제3"
   ]
  },
  {
   "cell_type": "code",
   "execution_count": 84,
   "id": "b2772859-e456-4e8d-8fe9-991b9f0ced8b",
   "metadata": {},
   "outputs": [],
   "source": [
    "arr = np.array([10,20,30,40,50,60,70])"
   ]
  },
  {
   "cell_type": "code",
   "execution_count": 89,
   "id": "875c738e-6586-45d9-9b93-7bb2d1d36e6b",
   "metadata": {},
   "outputs": [
    {
     "data": {
      "text/plain": [
       "array([10, 20, 30])"
      ]
     },
     "execution_count": 89,
     "metadata": {},
     "output_type": "execute_result"
    }
   ],
   "source": [
    "# 배열의 처음 3개 값을 꺼내서 출력\n",
    "arr[0:3]"
   ]
  },
  {
   "cell_type": "code",
   "execution_count": 90,
   "id": "48b4c534-648b-41e3-8959-0cb6dd5bd489",
   "metadata": {},
   "outputs": [
    {
     "data": {
      "text/plain": [
       "array([40, 50, 60, 70])"
      ]
     },
     "execution_count": 90,
     "metadata": {},
     "output_type": "execute_result"
    }
   ],
   "source": [
    "# 배열의 네 번째로부터 끝가지 값을 꺼내서 출력\n",
    "arr[3:]"
   ]
  },
  {
   "cell_type": "code",
   "execution_count": 91,
   "id": "e2fb1ba8-4830-4e04-9e0e-874cc520148d",
   "metadata": {},
   "outputs": [
    {
     "data": {
      "text/plain": [
       "array([20, 30, 40, 50])"
      ]
     },
     "execution_count": 91,
     "metadata": {},
     "output_type": "execute_result"
    }
   ],
   "source": [
    "# 배열의 두번째부터 다섯번째까지 값 꺼내서 출력\n",
    "arr[1:5]"
   ]
  },
  {
   "cell_type": "markdown",
   "id": "cce2f856-e464-4d17-9284-e18414d6e489",
   "metadata": {},
   "source": [
    "## 연습문제4"
   ]
  },
  {
   "cell_type": "code",
   "execution_count": 94,
   "id": "9d042133-be48-4fe0-ba2c-5d6464154db4",
   "metadata": {},
   "outputs": [
    {
     "name": "stdout",
     "output_type": "stream",
     "text": [
      "['a' 'b' 'c']\n",
      "['d' 'e' 'f' 'g']\n",
      "['b' 'c' 'd' 'e']\n"
     ]
    }
   ],
   "source": [
    "arr = np.array([\"a\",\"b\",\"c\",\"d\",\"e\",\"f\",\"g\"])\n",
    "\n",
    "# 배열의 처음 3개 값을 꺼내서 출력\n",
    "print(arr[:3])\n",
    "\n",
    "# 배열의 네 번째부터 끝까지 값\n",
    "print(arr[3:])\n",
    "\n",
    "# 배열의 두 번째로부터 다섯 번째까지 값\n",
    "print(arr[1:5])"
   ]
  },
  {
   "cell_type": "markdown",
   "id": "bb8fe65f-c376-4052-8b8e-9d52fb605555",
   "metadata": {},
   "source": [
    "## 실습"
   ]
  },
  {
   "cell_type": "markdown",
   "id": "3e94fc18-2113-4df9-a53b-b71f57b47a2d",
   "metadata": {},
   "source": [
    "2차원 배열의 인덱싱"
   ]
  },
  {
   "cell_type": "code",
   "execution_count": 95,
   "id": "f8e4b706-8aa5-4270-a7c8-8cc9cb1dc86c",
   "metadata": {},
   "outputs": [
    {
     "name": "stdout",
     "output_type": "stream",
     "text": [
      "[[1 2 3]\n",
      " [4 5 6]\n",
      " [7 8 9]]\n"
     ]
    }
   ],
   "source": [
    "# 3행 3열 2차원 배열 생성\n",
    "arr = np.array([[1,2,3],[4,5,6],[7,8,9]])\n",
    "print(arr)"
   ]
  },
  {
   "cell_type": "code",
   "execution_count": 104,
   "id": "e3de1f11-2834-4a37-8472-c5860b4d4182",
   "metadata": {},
   "outputs": [
    {
     "data": {
      "text/plain": [
       "array([1, 2, 3])"
      ]
     },
     "execution_count": 104,
     "metadata": {},
     "output_type": "execute_result"
    }
   ],
   "source": [
    "# 2차원 배열의 인덱스\n",
    "# 행(인덱스)\n",
    "# 열(컬럼)\n",
    "# 첫번째 행 꺼내기\n",
    "arr[0]"
   ]
  },
  {
   "cell_type": "code",
   "execution_count": 108,
   "id": "cb984135-cfe8-4c09-946a-72db022876cd",
   "metadata": {},
   "outputs": [
    {
     "data": {
      "text/plain": [
       "np.int64(5)"
      ]
     },
     "execution_count": 108,
     "metadata": {},
     "output_type": "execute_result"
    }
   ],
   "source": [
    "# 1 꺼내기\n",
    "arr[0][0]\n",
    "# 9 꺼내기\n",
    "arr[2][2]\n",
    "# 5 꺼내기\n",
    "arr[1][1]\n",
    "arr[1,1]"
   ]
  },
  {
   "cell_type": "code",
   "execution_count": 109,
   "id": "04f57cce-6d51-4e16-b8a3-efe925e1d6ec",
   "metadata": {},
   "outputs": [
    {
     "data": {
      "text/plain": [
       "array([[0, 2, 3],\n",
       "       [4, 0, 6],\n",
       "       [7, 8, 9]])"
      ]
     },
     "execution_count": 109,
     "metadata": {},
     "output_type": "execute_result"
    }
   ],
   "source": [
    "# 배열 원소의 값 바꾸기\n",
    "# 0->1\n",
    "arr[0][0] = 0\n",
    "arr\n",
    "# 5 -> 0\n",
    "arr[1,1] = 0\n",
    "arr"
   ]
  },
  {
   "cell_type": "markdown",
   "id": "eb738fde-9b34-4549-9ba9-9046ccaa4da3",
   "metadata": {},
   "source": [
    "2차원 배열 슬라이스"
   ]
  },
  {
   "cell_type": "code",
   "execution_count": 112,
   "id": "ce768cca-287a-457e-9df3-d6c5e1a97ec0",
   "metadata": {},
   "outputs": [
    {
     "data": {
      "text/plain": [
       "array([[1, 2, 3],\n",
       "       [4, 5, 6],\n",
       "       [7, 8, 9]])"
      ]
     },
     "execution_count": 112,
     "metadata": {},
     "output_type": "execute_result"
    }
   ],
   "source": [
    "arr = np.array([[1,2,3],[4,5,6],[7,8,9]])\n",
    "arr"
   ]
  },
  {
   "cell_type": "code",
   "execution_count": 113,
   "id": "5500bf73-6320-46a6-af62-c8c97d795584",
   "metadata": {},
   "outputs": [
    {
     "data": {
      "text/plain": [
       "array([[1, 2, 3],\n",
       "       [4, 5, 6]])"
      ]
     },
     "execution_count": 113,
     "metadata": {},
     "output_type": "execute_result"
    }
   ],
   "source": [
    "# 열을 기준으로 슬라이스\n",
    "arr[:2]"
   ]
  },
  {
   "cell_type": "code",
   "execution_count": 122,
   "id": "73805c7e-0ac3-40a4-9113-d19630143c86",
   "metadata": {},
   "outputs": [
    {
     "data": {
      "text/plain": [
       "array([1, 2, 3])"
      ]
     },
     "execution_count": 122,
     "metadata": {},
     "output_type": "execute_result"
    }
   ],
   "source": [
    "arr[:2][0]"
   ]
  },
  {
   "cell_type": "code",
   "execution_count": 121,
   "id": "d3b3f876-16b9-4dec-9014-3ddbcf5e504b",
   "metadata": {},
   "outputs": [
    {
     "data": {
      "text/plain": [
       "array([[5, 6],\n",
       "       [8, 9]])"
      ]
     },
     "execution_count": 121,
     "metadata": {},
     "output_type": "execute_result"
    }
   ],
   "source": [
    "# arr[1:3][1:3] -> X\n",
    "arr[1:3,1:3]"
   ]
  },
  {
   "cell_type": "code",
   "execution_count": 125,
   "id": "0430a9c3-5f30-4007-8d0c-1aba15ff06b4",
   "metadata": {},
   "outputs": [
    {
     "data": {
      "text/plain": [
       "array([[1, 2],\n",
       "       [4, 5]])"
      ]
     },
     "execution_count": 125,
     "metadata": {},
     "output_type": "execute_result"
    }
   ],
   "source": [
    "# 행 : 0번 1번\n",
    "# 열 : 0번 1번\n",
    "arr[:2, :2]"
   ]
  },
  {
   "cell_type": "code",
   "execution_count": 126,
   "id": "1267528a-f4fb-4c4e-aaf4-c08f3049ba12",
   "metadata": {},
   "outputs": [
    {
     "data": {
      "text/plain": [
       "array([4, 5])"
      ]
     },
     "execution_count": 126,
     "metadata": {},
     "output_type": "execute_result"
    }
   ],
   "source": [
    "# 행 : 1번 행만 선택\n",
    "# 열: 0 1 번\n",
    "arr[1,0:2]"
   ]
  },
  {
   "cell_type": "markdown",
   "id": "a3c00e34-8cf6-475b-b35b-e1a9f6ad9924",
   "metadata": {},
   "source": [
    "## 연습문제"
   ]
  },
  {
   "cell_type": "code",
   "execution_count": 156,
   "id": "2bb70b64-f7de-4b2c-a1f1-d2a9aea92178",
   "metadata": {},
   "outputs": [
    {
     "name": "stdout",
     "output_type": "stream",
     "text": [
      "20\n",
      "70\n",
      "[40 50 60]\n",
      "[20 50 80]\n",
      "[[ 10  20  30]\n",
      " [ 40  50 300]\n",
      " [ 70  80  90]]\n"
     ]
    }
   ],
   "source": [
    "arr = np.array([[10,20,30],\n",
    "        [40,50,60],\n",
    "        [70,80,90]])\n",
    "\n",
    "# 첫 번째 행의 두번째 값을 꺼내서 출력\n",
    "print(arr[0][1])\n",
    "# 세 번째 행의 첫번째 값을 꺼내서 출력\n",
    "print(arr[2][0])\n",
    "# 두 번째 행 전체를 꺼내서 출력\n",
    "print(arr[1])\n",
    "# 두번째 열 전체\n",
    "print(arr[:,1])\n",
    "# 첫번째 행의 세번째 값 300\n",
    "arr[1][2] = 300\n",
    "print(arr)\n",
    "\n",
    "\n"
   ]
  },
  {
   "cell_type": "markdown",
   "id": "82d33467-0f92-4ec4-8717-330d82fa0cfc",
   "metadata": {},
   "source": [
    "## 연습문제2"
   ]
  },
  {
   "cell_type": "code",
   "execution_count": 162,
   "id": "24124f2d-b5b0-4134-a552-ef3f05de741b",
   "metadata": {},
   "outputs": [
    {
     "name": "stdout",
     "output_type": "stream",
     "text": [
      "7\n",
      "13\n",
      "[ 9 10 11 12]\n",
      "[ 4  8 12 16]\n",
      "[[  1   2   3 100]\n",
      " [  5   6   7   8]\n",
      " [  9  10  11  12]\n",
      " [ 13  14  15  16]]\n"
     ]
    }
   ],
   "source": [
    "arr = np.array([[1,2,3,4],\n",
    "                [5,6,7,8],\n",
    "                [9,10,11,12],\n",
    "                [13,14,15,16]])\n",
    "# 두번째 행의 세번째 값을 꺼내서 출력\n",
    "print(arr[1][2])\n",
    "# 네번째 행의 첫번째 값 꺼내서 출력\n",
    "print(arr[3][0])\n",
    "# 세번째 행 전체를 꺼내서 출력\n",
    "print(arr[2])\n",
    "# 네번째 열 전체를 꺼내서 출력\n",
    "print(arr[:,3])\n",
    "\n",
    "# 첫번째 행의 네번째 값 100으로 변경\n",
    "arr[0][3] = 100\n",
    "print(arr)"
   ]
  },
  {
   "cell_type": "markdown",
   "id": "971ad41a-588b-4d97-8338-79b0b1e4c7e5",
   "metadata": {},
   "source": [
    "## 연습문제3"
   ]
  },
  {
   "cell_type": "code",
   "execution_count": 167,
   "id": "27e3f46e-c02b-4ae1-a828-13b609c78926",
   "metadata": {},
   "outputs": [
    {
     "name": "stdout",
     "output_type": "stream",
     "text": [
      "[10 20]\n",
      "[[40 50 60]\n",
      " [70 80 90]]\n",
      "[[20 30]\n",
      " [50 60]\n",
      " [80 90]]\n"
     ]
    }
   ],
   "source": [
    "arr = np.array([[10,20,30],\n",
    "                [40,50,60],\n",
    "                [70,80,90]])\n",
    "# 첫번째 행의 앞 2개 숫자를 꺼내서 출력\n",
    "print(arr[0][:2])\n",
    "# 두번째 행부터 세번째 행까지 전체를 꺼내서 출력\n",
    "print(arr[1:3])\n",
    "# 모든 행에서 두번째와 세번째 열만 꺼내서 출력\n",
    "print(arr[:,1:3])"
   ]
  },
  {
   "cell_type": "markdown",
   "id": "56df1d7b-ed8a-4b6f-8bb9-8359274b3fb7",
   "metadata": {},
   "source": [
    "## 실습\n",
    "불리언 인덱스  \n",
    "인덱스란? 데이터의 위치"
   ]
  },
  {
   "cell_type": "code",
   "execution_count": 180,
   "id": "e6a8fe8b-6594-48d8-b04d-fe242bb77dfe",
   "metadata": {},
   "outputs": [],
   "source": [
    "# 학생 배열 생성\n",
    "students = np.array(['철수','영희','민수','철수','철수'])\n",
    "# 학생들의 대출 이력(책제목, 대출일)\n",
    "books = np.array([ ['수학의 정석', 7], ['해리포터',10], ['파이썬 입문',5], ['한국사',5], ['데미안',12] ])"
   ]
  },
  {
   "cell_type": "code",
   "execution_count": 181,
   "id": "9dd5b3fb-1f3e-433b-b947-d7f2f6edea2a",
   "metadata": {},
   "outputs": [
    {
     "data": {
      "text/plain": [
       "array([ True, False, False,  True,  True])"
      ]
     },
     "execution_count": 181,
     "metadata": {},
     "output_type": "execute_result"
    }
   ],
   "source": [
    "# 여기서 철수의 대출 이력만 조회하기\n",
    "# 배열 == '비교값'\n",
    "# 배열 전체에 철수를 비교\n",
    "# 총 5번 비교하고 bool 배열 반환\n",
    "arr = (students == '철수')\n",
    "arr"
   ]
  },
  {
   "cell_type": "code",
   "execution_count": 182,
   "id": "48f5eac0-f826-4632-bad1-b4c03e45a1c5",
   "metadata": {},
   "outputs": [
    {
     "data": {
      "text/plain": [
       "array([['수학의 정석', '7'],\n",
       "       ['한국사', '5'],\n",
       "       ['데미안', '12']], dtype='<U21')"
      ]
     },
     "execution_count": 182,
     "metadata": {},
     "output_type": "execute_result"
    }
   ],
   "source": [
    "# books 배열의 인덱스에 bool 배열 넣기\n",
    "# true 에 해당하는 원소만 반환\n",
    "# 조건에 맞는 원소를 꺼낼때 사용!!\n",
    "books[students=='철수']"
   ]
  },
  {
   "cell_type": "code",
   "execution_count": 183,
   "id": "2c9d2003-545c-40eb-8d95-a6f219a2a571",
   "metadata": {},
   "outputs": [
    {
     "name": "stdout",
     "output_type": "stream",
     "text": [
      "[False  True  True False False]\n"
     ]
    },
    {
     "data": {
      "text/plain": [
       "array([['해리포터', '10'],\n",
       "       ['파이썬 입문', '5']], dtype='<U21')"
      ]
     },
     "execution_count": 183,
     "metadata": {},
     "output_type": "execute_result"
    }
   ],
   "source": [
    "print(students!='철수')\n",
    "# 철수가 아닌 대출 이력 찾기\n",
    "books[students!='철수']"
   ]
  },
  {
   "cell_type": "code",
   "execution_count": 190,
   "id": "4761a85f-a320-4833-a5f0-0a0d4496852c",
   "metadata": {},
   "outputs": [
    {
     "data": {
      "text/plain": [
       "array([['자바의 정석', '7'],\n",
       "       ['7', '7'],\n",
       "       ['7', '7'],\n",
       "       ['한국사', '5'],\n",
       "       ['데미안', '12']], dtype='<U21')"
      ]
     },
     "execution_count": 190,
     "metadata": {},
     "output_type": "execute_result"
    }
   ],
   "source": [
    "# '수학의 정석'을 찾아서 제목을 '자바의 정석'으로 바꾸기\n",
    "books == '수학의 정석'\n",
    "# bool 배열로 원소를 찾고 값 교체\n",
    "books[books[:,1] == '수학의 정석'] = '자바의 정석'\n",
    "books"
   ]
  },
  {
   "cell_type": "code",
   "execution_count": 189,
   "id": "8d2fe37d-4b30-4eac-8da5-64d693d459d3",
   "metadata": {},
   "outputs": [
    {
     "data": {
      "text/plain": [
       "array([['자바의 정석', '7'],\n",
       "       ['7', '7'],\n",
       "       ['7', '7'],\n",
       "       ['한국사', '5'],\n",
       "       ['데미안', '12']], dtype='<U21')"
      ]
     },
     "execution_count": 189,
     "metadata": {},
     "output_type": "execute_result"
    }
   ],
   "source": [
    "# 대출 이력 중에서 철수가 아닌 항목을 찾고\n",
    "# 행 전체를 7로 바꾸기\n",
    "students != '철수'\n",
    "books[students != '철수'] = 7\n",
    "books"
   ]
  },
  {
   "cell_type": "markdown",
   "id": "0ab9b28c-f31f-4194-a400-829119b1dbd2",
   "metadata": {},
   "source": [
    "## 연습문제\n",
    "불리언"
   ]
  },
  {
   "cell_type": "code",
   "execution_count": 197,
   "id": "7cd143ca-ca02-4b98-80f4-789465f99a10",
   "metadata": {},
   "outputs": [
    {
     "name": "stdout",
     "output_type": "stream",
     "text": [
      "[False False False  True  True  True  True]\n",
      "[40 50 60 70]\n",
      "[ True  True  True  True  True  True  True]\n",
      "[10 20 30 40 50 60 70]\n"
     ]
    },
    {
     "data": {
      "text/plain": [
       "array([ 10,  20,  30,  40,  50, 999, 999])"
      ]
     },
     "execution_count": 197,
     "metadata": {},
     "output_type": "execute_result"
    }
   ],
   "source": [
    "arr = np.array([10,20,30,40,50,60,70])\n",
    "\n",
    "# 배열에서 30보다 큰 값만 꺼내서 출력\n",
    "print(arr>30)\n",
    "print(arr[arr>30])\n",
    "# 배열에서 짝수값만 꺼내서 출력\n",
    "print(arr%2 == 0)\n",
    "print(arr[arr%2 == 0])\n",
    "# 배열에서 50보다 큰 값을 모두 999로 변경\n",
    "arr[arr>50] = 999\n",
    "arr"
   ]
  },
  {
   "cell_type": "code",
   "execution_count": 204,
   "id": "c1bb76d0-d53c-4223-8eb9-9e12ea6f0086",
   "metadata": {},
   "outputs": [
    {
     "name": "stdout",
     "output_type": "stream",
     "text": [
      "[400]\n",
      "['철수' '맹구']\n",
      "[250 320 280 400 200]\n"
     ]
    }
   ],
   "source": [
    "# 직원 이름 배열\n",
    "employees = np.array([\"짱구\",\"철수\",\"유리\",\"맹구\",\"훈이\"])\n",
    "\n",
    "# 직원별 월급(만원 단위)\n",
    "salaries = np.array([250,320,280,400,150])\n",
    "\n",
    "# 직원 이름과 월급은 대응\n",
    "\n",
    "# '맹구'의 급여를 조회\n",
    "employees=='맹구'\n",
    "print(salaries[employees=='맹구'])\n",
    "\n",
    "# 급여가 300만원 이상인 직원들의 이름 출력\n",
    "salaries >= 300\n",
    "print(employees[salaries>=300])\n",
    "\n",
    "# 급여가 200만원 미만인 직원들의 급여를 모두 200으로 올리세요\n",
    "salaries < 200\n",
    "salaries[salaries <200] = 200\n",
    "print(salaries)"
   ]
  },
  {
   "cell_type": "markdown",
   "id": "9159f644-a4a8-4c99-8ea3-90891764197b",
   "metadata": {},
   "source": [
    "3.2 배열의 모양 바꾸기"
   ]
  },
  {
   "cell_type": "code",
   "execution_count": 209,
   "id": "3c5f3892-d66d-4494-aa83-92e7e40dc297",
   "metadata": {},
   "outputs": [
    {
     "name": "stdout",
     "output_type": "stream",
     "text": [
      "[1 2 3 4 5 6 7 8 9]\n"
     ]
    },
    {
     "data": {
      "text/plain": [
       "array([[1, 2, 3],\n",
       "       [4, 5, 6],\n",
       "       [7, 8, 9]])"
      ]
     },
     "execution_count": 209,
     "metadata": {},
     "output_type": "execute_result"
    }
   ],
   "source": [
    "# 1~9 숫자가 담긴 1차원 배열 생성\n",
    "# reshape : 배열의 형태를 바꾸는 함수\n",
    "# 1차원 -> 2차원\n",
    "# 3행 3열 크기의 배열로 변환\n",
    "print(np.arange(1,10))\n",
    "arr = np.arange(1,10).reshape(3,3)\n",
    "arr"
   ]
  },
  {
   "cell_type": "code",
   "execution_count": 217,
   "id": "1a7489b9-001b-43ef-8714-e1e7465c0440",
   "metadata": {},
   "outputs": [
    {
     "name": "stdout",
     "output_type": "stream",
     "text": [
      "[ 1  2  3  4  5  6  7  8  9 10 11 12 13 14 15 16]\n"
     ]
    },
    {
     "data": {
      "text/plain": [
       "array([[ 1,  2,  3,  4],\n",
       "       [ 5,  6,  7,  8],\n",
       "       [ 9, 10, 11, 12],\n",
       "       [13, 14, 15, 16]])"
      ]
     },
     "execution_count": 217,
     "metadata": {},
     "output_type": "execute_result"
    }
   ],
   "source": [
    "# 1~16 숫자가 담긴 1차원 배열\n",
    "# 1차원->2차원\n",
    "print(np.arange(1,17))\n",
    "a = np.arange(1,17).reshape(4,4)\n",
    "a"
   ]
  },
  {
   "cell_type": "code",
   "execution_count": 218,
   "id": "091f66f5-6e0a-4474-8a39-e009f2640fe9",
   "metadata": {},
   "outputs": [
    {
     "name": "stdout",
     "output_type": "stream",
     "text": [
      "[ 1  2  3  4  5  6  7  8  9 10 11 12]\n"
     ]
    },
    {
     "data": {
      "text/plain": [
       "array([[ 1,  2,  3,  4],\n",
       "       [ 5,  6,  7,  8],\n",
       "       [ 9, 10, 11, 12]])"
      ]
     },
     "execution_count": 218,
     "metadata": {},
     "output_type": "execute_result"
    }
   ],
   "source": [
    "# 1~12 숫자가 담긴 1차원 배열\n",
    "# 1차원->2차원\n",
    "print(np.arange(1,13))\n",
    "a = np.arange(1,13).reshape(3,4)\n",
    "a"
   ]
  },
  {
   "cell_type": "markdown",
   "id": "2cad62b7-eee4-45d0-9865-7c322edecc5e",
   "metadata": {},
   "source": [
    "## 연습문제\n",
    "배열의 모양 바꾸기[reshape]"
   ]
  },
  {
   "cell_type": "code",
   "execution_count": 224,
   "id": "a376ae05-ad73-414f-8248-23b865fd638e",
   "metadata": {},
   "outputs": [
    {
     "name": "stdout",
     "output_type": "stream",
     "text": [
      "[[ 0  1  2  3]\n",
      " [ 4  5  6  7]\n",
      " [ 8  9 10 11]]\n",
      "[[ 1  2  3  4]\n",
      " [ 5  6  7  8]\n",
      " [ 9 10 11 12]\n",
      " [13 14 15 16]]\n",
      "[[ 1  2  3  4]\n",
      " [ 5  6  7  8]\n",
      " [ 9 10 11 12]\n",
      " [13 14 15 16]\n",
      " [17 18 19 20]]\n",
      "[[10 11 12 13]\n",
      " [14 15 16 17]\n",
      " [18 19 20 21]\n",
      " [22 23 24 25]]\n"
     ]
    }
   ],
   "source": [
    "# 0부터 11까지 3행4열 배열로 바꾸기\n",
    "a=np.arange(0,12).reshape(3,4)\n",
    "print(a)\n",
    "\n",
    "# 1부터 16까지 숫자를 생성한뒤 4행4열 배열\n",
    "b = np.arange(1,17).reshape(4,4)\n",
    "print(b)\n",
    "\n",
    "# 1부터 20까지 숫자 생성한뒤 5행4열 배열\n",
    "c = np.arange(1,21).reshape(5,4)\n",
    "print(c)\n",
    "\n",
    "# 10부터 25까지 숫자를 생성한뒤 4행4열 배열\n",
    "d = np.arange(10,26).reshape(4,4)\n",
    "print(d)"
   ]
  },
  {
   "cell_type": "markdown",
   "id": "f4a79695-5dd7-4f49-9903-e1204934f261",
   "metadata": {},
   "source": [
    "## 실습\n",
    "랜덤값 만들기[표준 정규 분포]"
   ]
  },
  {
   "cell_type": "code",
   "execution_count": 229,
   "id": "6aa2305a-9a37-41d8-87d0-3666ff73e375",
   "metadata": {},
   "outputs": [
    {
     "data": {
      "text/plain": [
       "array([-1.02161338, -0.03166599,  0.39849369,  2.03171518,  0.24745696,\n",
       "        0.42267953,  0.3455364 , -0.08399257, -0.41087644,  0.12579013])"
      ]
     },
     "execution_count": 229,
     "metadata": {},
     "output_type": "execute_result"
    }
   ],
   "source": [
    "# 랜덤값 만들기\n",
    "# 표준 정규 분포: 표준 편차가 1인 그래프에서 랜덤값을 생성(-3~3)\n",
    "# 랜덤값 10개 생성\n",
    "arr = np.random.standard_normal(size=10)\n",
    "arr"
   ]
  },
  {
   "cell_type": "code",
   "execution_count": 230,
   "id": "5b9dca9a-9dcf-4ac2-a7c2-947b8b2d7589",
   "metadata": {},
   "outputs": [
    {
     "data": {
      "text/plain": [
       "array([0.32814792, 0.58251454, 0.04949287, 0.88480611, 0.37103784,\n",
       "       0.67311638, 0.65460261, 0.03349292, 0.26886639, 0.09485759])"
      ]
     },
     "execution_count": 230,
     "metadata": {},
     "output_type": "execute_result"
    }
   ],
   "source": [
    "# 균일 분포: 범위 0~1. 모든 값이 같은 확률\n",
    "arr = np.random.uniform(size=10)\n",
    "arr"
   ]
  },
  {
   "cell_type": "code",
   "execution_count": 232,
   "id": "d00752b0-339d-4aed-8a8e-6435d3d4b087",
   "metadata": {},
   "outputs": [
    {
     "name": "stdout",
     "output_type": "stream",
     "text": [
      "[-0.2059575   1.37397665  0.5303557  -1.21521294  1.43573298]\n",
      "[0.53273599 0.63619319 0.86760428 0.11638537 0.35253757]\n"
     ]
    }
   ],
   "source": [
    "# 표준정규분포에서 랜덤값 5개 생성\n",
    "arr1 = np.random.standard_normal(size=5)\n",
    "print(arr1)\n",
    "# 균일분포에서 랜덤값 5개 생성\n",
    "arr2 = np.random.uniform(size=5)\n",
    "print(arr2)"
   ]
  },
  {
   "cell_type": "markdown",
   "id": "5023a81f-8d0b-4535-af59-6e5d2d7915f8",
   "metadata": {},
   "source": [
    "3.4 유니버설 함수\n",
    "반복문 없이 배열 전체에 계산을 해주는 함수"
   ]
  },
  {
   "cell_type": "code",
   "execution_count": 233,
   "id": "194ad689-ba3b-40cd-bbdc-9b36eb7cb544",
   "metadata": {},
   "outputs": [
    {
     "data": {
      "text/plain": [
       "array([0, 1, 2, 3, 4, 5, 6, 7, 8, 9])"
      ]
     },
     "execution_count": 233,
     "metadata": {},
     "output_type": "execute_result"
    }
   ],
   "source": [
    "# 0~9 숫자가 담긴 1차원 배열 생성\n",
    "arr = np.arange(10)\n",
    "arr"
   ]
  },
  {
   "cell_type": "code",
   "execution_count": 237,
   "id": "07bf0be3-fd5b-47b1-837e-cf469ad0a66e",
   "metadata": {},
   "outputs": [
    {
     "data": {
      "text/plain": [
       "array([ 3,  4,  5,  6,  7,  8,  9, 10, 11, 12])"
      ]
     },
     "execution_count": 237,
     "metadata": {},
     "output_type": "execute_result"
    }
   ],
   "source": [
    "# 파이썬의 리스트는 for문을 사용해서 계산해야함\n",
    "# 넘파이의 배열은 for문 없이 계산 가능\n",
    "# 배열 전체에 3 더하기\n",
    "# add : 더하기\n",
    "np.add(arr,3)"
   ]
  },
  {
   "cell_type": "code",
   "execution_count": 241,
   "id": "51e6b1ba-f5a7-49b9-8a19-8218853fb377",
   "metadata": {},
   "outputs": [
    {
     "data": {
      "text/plain": [
       "array([ 3,  7,  5,  6, 10])"
      ]
     },
     "execution_count": 241,
     "metadata": {},
     "output_type": "execute_result"
    }
   ],
   "source": [
    "a = np.array([1,7,2,4,10])\n",
    "b = np.array([3,4,5,6,7])\n",
    "\n",
    "# 두 배열을 비교하여 더 큰값 저장하기\n",
    "np.maximum(a,b)"
   ]
  },
  {
   "cell_type": "markdown",
   "id": "11bbabd1-6088-48cf-b454-58c833bcf9aa",
   "metadata": {},
   "source": [
    "조건문"
   ]
  },
  {
   "cell_type": "code",
   "execution_count": 242,
   "id": "331a1538-f685-487f-a97c-20d3b1b6b424",
   "metadata": {},
   "outputs": [],
   "source": [
    "# 배열 두개 만들기\n",
    "a = np.array([1,2,3])\n",
    "b = np.array([10,20,30])\n",
    "# 불리언 배열 만들기(조건)\n",
    "cond = np.array([True, True, False])"
   ]
  },
  {
   "cell_type": "code",
   "execution_count": 245,
   "id": "1a09bd4c-8da5-4712-a0f6-57e8a4fdec02",
   "metadata": {},
   "outputs": [
    {
     "data": {
      "text/plain": [
       "array([ 1,  2, 30])"
      ]
     },
     "execution_count": 245,
     "metadata": {},
     "output_type": "execute_result"
    }
   ],
   "source": [
    "# where(조건, 참일때값, 거짓일때값) 조건문 쓰기\n",
    "# 조건이 참이면 a에서 값을 선택, 거짓이면 b에서 값을 선택\n",
    "# where는 삼항연산자와 비슷\n",
    "result = np.where(cond, a, b)\n",
    "result"
   ]
  },
  {
   "cell_type": "code",
   "execution_count": 248,
   "id": "588c07f4-7e24-4482-ada6-267c7b1ffb43",
   "metadata": {},
   "outputs": [
    {
     "name": "stdout",
     "output_type": "stream",
     "text": [
      "[False False False  True  True]\n"
     ]
    },
    {
     "data": {
      "text/plain": [
       "array(['x', 'x', 'x', 'o', 'o'], dtype='<U1')"
      ]
     },
     "execution_count": 248,
     "metadata": {},
     "output_type": "execute_result"
    }
   ],
   "source": [
    "# 1차원 배열 생성\n",
    "arr = np.array([-2, -1, 0, 1, 2])\n",
    "\n",
    "# 양수면 'o' 음수면 'x'로 반환\n",
    "# 조건, 참일때 값, 거짓일때값\n",
    "# np.where()\n",
    "\n",
    "# 조건 배열 만들기\n",
    "print(arr > 0)\n",
    "\n",
    "np.where(arr>0, 'o', 'x')"
   ]
  },
  {
   "cell_type": "code",
   "execution_count": 255,
   "id": "64599fb8-c5c9-4145-9048-0df340306c96",
   "metadata": {},
   "outputs": [
    {
     "name": "stdout",
     "output_type": "stream",
     "text": [
      "['0' '100' '0' '100' '0']\n",
      "[-1  1  1  1 -1]\n",
      "[10  2 30  4 50]\n"
     ]
    }
   ],
   "source": [
    "# 배열 [5,12,7,20,3]에서 10보다 크면 '100', 10이하면 '0'으로 바꾸세요.\n",
    "arr = np.array([5,12,7,20,3])\n",
    "print(np.where(arr>10, '100', '0'))\n",
    "\n",
    "# 배열 [15,8,22,6,13]에서 짝수면 1, 홀수면 -1로 바꾸세요.\n",
    "arr =np.array([15,8,22,6,13])\n",
    "print(np.where(arr%2==0, 1, -1))\n",
    "\n",
    "# 배열 [10,20,30,40,50]과 [1,2,3,4,5]을 만들고\n",
    "# 조건배열 [True, False,True,False,True]를 사용해\n",
    "# 조건이 True일때는 첫 번째 배열 값, False일 때는 두번째 배열 값을 선택\n",
    "arr1 = np.array([10,20,30,40,50])\n",
    "arr2 = np.array([1,2,3,4,5])\n",
    "cond = np.array([True, False,True,False,True])\n",
    "print(np.where(cond, arr1, arr2))"
   ]
  },
  {
   "cell_type": "markdown",
   "id": "1da8516e-7acc-4ad8-b700-9034987b444e",
   "metadata": {},
   "source": [
    "통계를 구할 때 자주 사용하는 함수들  \n",
    "(최대 최소 합계 평균)"
   ]
  },
  {
   "cell_type": "code",
   "execution_count": 258,
   "id": "e1a76b99-714f-493d-afdd-8aeb97b79cb7",
   "metadata": {},
   "outputs": [
    {
     "name": "stdout",
     "output_type": "stream",
     "text": [
      "15\n",
      "3.0\n"
     ]
    }
   ],
   "source": [
    "# 파이썬의 리스트 생성\n",
    "lis = [1,2,3,4,5]\n",
    "# 리스트의 총합을 구하세요!\n",
    "sum = 0\n",
    "for i in lis :\n",
    "    sum = sum + i\n",
    "print(sum)\n",
    "# 리스트의 평균을 구하세요!\n",
    "print(sum/len(lis))"
   ]
  },
  {
   "cell_type": "code",
   "execution_count": 263,
   "id": "c8576b89-82c8-4277-8882-710bf53128f6",
   "metadata": {},
   "outputs": [
    {
     "name": "stdout",
     "output_type": "stream",
     "text": [
      "15\n",
      "3.0\n",
      "5\n",
      "1\n"
     ]
    }
   ],
   "source": [
    "# 이번에는 넘파이 배열로 합계와 평균 구하기 sum,mean,max,min\n",
    "arr = np.array([1,2,3,4,5])\n",
    "print(np.sum(arr))\n",
    "print(np.mean(arr))\n",
    "# 배열에서 제일 큰 값\n",
    "print(np.max(arr))\n",
    "# 배열에서 제일 작은 값\n",
    "print(np.min(arr))"
   ]
  },
  {
   "cell_type": "markdown",
   "id": "b7e53691-ccea-4ab6-9773-a5b1f8c05204",
   "metadata": {},
   "source": [
    "행/열 단위로 합계 구하기"
   ]
  },
  {
   "cell_type": "code",
   "execution_count": 271,
   "id": "94b2e9f4-e66a-4fc4-b5f1-c62f08084948",
   "metadata": {},
   "outputs": [
    {
     "name": "stdout",
     "output_type": "stream",
     "text": [
      "[[1 2 3]\n",
      " [4 5 6]\n",
      " [7 8 9]]\n",
      "45\n",
      "[12 15 18]\n",
      "[ 6 15 24]\n"
     ]
    }
   ],
   "source": [
    "arr = np.arange(1,10).reshape(3,3)\n",
    "print(arr)\n",
    "\n",
    "# 배열의 합계 구하기\n",
    "print(arr.sum())\n",
    "# 2차원 배열에서 행 또는 열 방향으로 합 구하기\n",
    "# axis=0 -> 세로 방향으로 합 계산\n",
    "print(arr.sum(axis=0))\n",
    "# axis=1 -> 가로 방향으로 합 계산\n",
    "print(arr.sum(axis=1))"
   ]
  },
  {
   "cell_type": "code",
   "execution_count": 272,
   "id": "445526d5-6d3c-4e4d-9198-103de6f0082e",
   "metadata": {},
   "outputs": [
    {
     "data": {
      "text/plain": [
       "array([ 1,  3,  6, 10, 15])"
      ]
     },
     "execution_count": 272,
     "metadata": {},
     "output_type": "execute_result"
    }
   ],
   "source": [
    "# 누적값 구하기\n",
    "arr = np.array([1,2,3,4,5])\n",
    "arr.cumsum()"
   ]
  },
  {
   "cell_type": "code",
   "execution_count": 279,
   "id": "778dc56b-9f0f-4578-9e96-a78b25347307",
   "metadata": {},
   "outputs": [
    {
     "name": "stdout",
     "output_type": "stream",
     "text": [
      "[[0 1 2]\n",
      " [3 4 5]\n",
      " [6 7 8]]\n",
      "[[ 0  1  2]\n",
      " [ 3  5  7]\n",
      " [ 9 12 15]]\n"
     ]
    }
   ],
   "source": [
    "# 2차원 배열 생성\n",
    "arr = np.array([ [0,1,2],[3,4,5],[6,7,8] ])\n",
    "print(arr)\n",
    "# 2차원 배열의 누적값 구하기\n",
    "# 기준 설정(세로방향. 위 ->아래)\n",
    "print(arr.cumsum(axis=0))"
   ]
  },
  {
   "cell_type": "code",
   "execution_count": null,
   "id": "6160d2b1-9db4-4dc5-93d0-c59bc0fa7e1e",
   "metadata": {},
   "outputs": [],
   "source": []
  }
 ],
 "metadata": {
  "kernelspec": {
   "display_name": "Python 3 (ipykernel)",
   "language": "python",
   "name": "python3"
  },
  "language_info": {
   "codemirror_mode": {
    "name": "ipython",
    "version": 3
   },
   "file_extension": ".py",
   "mimetype": "text/x-python",
   "name": "python",
   "nbconvert_exporter": "python",
   "pygments_lexer": "ipython3",
   "version": "3.10.18"
  }
 },
 "nbformat": 4,
 "nbformat_minor": 5
}
