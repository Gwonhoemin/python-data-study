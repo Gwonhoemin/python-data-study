{
 "cells": [
  {
   "cell_type": "markdown",
   "id": "9f0ac71a-29d2-46cd-b4cb-c8e8c5695f78",
   "metadata": {},
   "source": [
    "### 판다스(pandas)\n",
    "데이터를 관리하기 위한 모듈로, 시리즈와 데이터 프레임을 제공함"
   ]
  },
  {
   "cell_type": "code",
   "execution_count": 123,
   "id": "8a91144d-e75b-4d27-974b-c217e8fe1ad8",
   "metadata": {},
   "outputs": [],
   "source": [
    "# 모듈 불러오기\n",
    "# 넘파이 모듈을 np라고 부른다\n",
    "import numpy as np\n",
    "# 판다스 모듈을 pd라고 부른다\n",
    "import pandas as pd"
   ]
  },
  {
   "cell_type": "markdown",
   "id": "408e5edf-2b80-4a4e-a68c-84dd45a80bd9",
   "metadata": {},
   "source": [
    "#### 4.1 시리즈(series)\n",
    "<small>데이터를 한줄로 담는 자료 구조이다<br>\n",
    "리스트와 다른 점은 데이터에 이름표를 붙일 수 있다 (index)\n",
    "</small>"
   ]
  },
  {
   "cell_type": "markdown",
   "id": "6c409d6c-5719-4293-9459-91bb05d519f5",
   "metadata": {},
   "source": [
    "시리즈 생성1"
   ]
  },
  {
   "cell_type": "code",
   "execution_count": 6,
   "id": "397694f2-5869-4cc4-a56c-e3b427e115c8",
   "metadata": {},
   "outputs": [
    {
     "name": "stdout",
     "output_type": "stream",
     "text": [
      "0    1\n",
      "1    2\n",
      "2    3\n",
      "3    4\n",
      "dtype: int64\n"
     ]
    },
    {
     "data": {
      "text/plain": [
       "RangeIndex(start=0, stop=4, step=1)"
      ]
     },
     "execution_count": 6,
     "metadata": {},
     "output_type": "execute_result"
    }
   ],
   "source": [
    "# 시리즈 생성\n",
    "s = pd.Series([1,2,3,4])\n",
    "print(s)\n",
    "# 인덱스가 자동으로 설정됨(0~3)\n",
    "# 시리즈의 인덱스 확인\n",
    "s.index"
   ]
  },
  {
   "cell_type": "markdown",
   "id": "cbff506e-7875-4d05-a64a-9f67b8182bd4",
   "metadata": {},
   "source": [
    "시리즈 생성2"
   ]
  },
  {
   "cell_type": "code",
   "execution_count": 11,
   "id": "b4779aea-1309-4877-816b-dc3d94c2ad6b",
   "metadata": {},
   "outputs": [
    {
     "data": {
      "text/plain": [
       "Index(['a', 'b', 'c'], dtype='object')"
      ]
     },
     "execution_count": 11,
     "metadata": {},
     "output_type": "execute_result"
    }
   ],
   "source": [
    "# 인덱스를 직접 설정하여 시리즈 생성\n",
    "# pd.Series(값목록(list), 인덱스(list))\n",
    "s = pd.Series([1,2,3], index=['a','b','c'])\n",
    "s\n",
    "# 인덱스 확인\n",
    "s.index"
   ]
  },
  {
   "cell_type": "markdown",
   "id": "55820023-ec03-463b-bce8-170520acdd94",
   "metadata": {},
   "source": [
    "시리즈에서 값 꺼내기  \n",
    "<small>\n",
    "    값을 찾는 방법: 인덱스의 이름과 위치<br>\n",
    "    loc 함수: 인덱스 이름으로 데이터를 찾는다<br>\n",
    "    iloc 함수: 인덱스 위치로 데이터를 찾는다<br>\n",
    "    대괄호[] : 인덱스 이름으로 데이터를 찾는다 / 소괄호 X\n",
    "</small>"
   ]
  },
  {
   "cell_type": "code",
   "execution_count": 22,
   "id": "d52fccbf-9b58-4953-8c1d-bb51b2dc4475",
   "metadata": {},
   "outputs": [
    {
     "name": "stdout",
     "output_type": "stream",
     "text": [
      "a    1\n",
      "b    2\n",
      "c    3\n",
      "dtype: int64\n"
     ]
    },
    {
     "data": {
      "text/plain": [
       "np.int64(3)"
      ]
     },
     "execution_count": 22,
     "metadata": {},
     "output_type": "execute_result"
    }
   ],
   "source": [
    "print(s)\n",
    "# 이 시리즈의 인덱스 이름: a,b,c\n",
    "# 이 시리즈의 인덱스 위치: 0, 1, 2\n",
    "\n",
    "# 인덱스 이름으로 숫자 1 꺼내기\n",
    "# s.loc[이름]\n",
    "s.loc['a']\n",
    "# 인덱스 이름으로 숫자 2 꺼내기\n",
    "# s[이름]\n",
    "s['b']\n",
    "# 인덱스 위치로 숫자 3 꺼내기\n",
    "# s.iloc[위치]\n",
    "s.iloc[2]\n"
   ]
  },
  {
   "cell_type": "markdown",
   "id": "cdf23638-4ec8-45d4-b833-d4d12f009c5e",
   "metadata": {},
   "source": [
    "시리즈 값 수정하기"
   ]
  },
  {
   "cell_type": "code",
   "execution_count": 30,
   "id": "7b7fa01c-df24-46d6-b182-cbeaea6a8bec",
   "metadata": {},
   "outputs": [
    {
     "name": "stdout",
     "output_type": "stream",
     "text": [
      "a    0\n",
      "b    2\n",
      "c    3\n",
      "dtype: int64\n"
     ]
    },
    {
     "data": {
      "text/plain": [
       "a     0\n",
       "b     2\n",
       "c    99\n",
       "dtype: int64"
      ]
     },
     "execution_count": 30,
     "metadata": {},
     "output_type": "execute_result"
    }
   ],
   "source": [
    "print(s)\n",
    "# 1을 0으로 변경\n",
    "# 찾기 -> 변경\n",
    "s.loc['a'] = 0\n",
    "# 3을 99로 변경\n",
    "s['c']=99\n",
    "s"
   ]
  },
  {
   "cell_type": "markdown",
   "id": "b79b37f0-5847-4cfc-aa60-7723d2d5717e",
   "metadata": {},
   "source": [
    "#### 4.2 데이터 프레임 (DataFrame)\n",
    "<small>\n",
    "    표 형식의 2차원 데이터를 담기 위한 자료 구조\n",
    "</small>"
   ]
  },
  {
   "cell_type": "markdown",
   "id": "9fdd5b6e-6769-48f5-b808-79f5ef174522",
   "metadata": {},
   "source": [
    "데이터 프레임 생성1"
   ]
  },
  {
   "cell_type": "code",
   "execution_count": 40,
   "id": "a1bce98a-6801-427b-b4f4-b8304342bcec",
   "metadata": {},
   "outputs": [
    {
     "name": "stdout",
     "output_type": "stream",
     "text": [
      "RangeIndex(start=0, stop=2, step=1)\n",
      "Index(['city', 'pop'], dtype='object')\n"
     ]
    }
   ],
   "source": [
    "# 도시별 인구 데이터를 담은 데이터 프레임 생성\n",
    "# 데이터 먼저 만들기 (dic)\n",
    "# city 라는 열 1개\n",
    "data = { \"city\":['서울','인천'], \n",
    "         \"pop\":[990,240]\n",
    "       }\n",
    "# city, pop 열 두개를 담은 데이터 프레임 생성\n",
    "df = pd.DataFrame(data)\n",
    "df\n",
    "\n",
    "# 행열의 이름을 따로 설정하지 않으면 자동으로 설정됨\n",
    "print(df.index) # 행 이름: 0,1\n",
    "print(df.columns) # 열 이름: dic의 key(city, pop)"
   ]
  },
  {
   "cell_type": "markdown",
   "id": "f39b379d-f88a-4e8e-a6cc-cc73e025d334",
   "metadata": {},
   "source": [
    "데이터 프레임 생성2"
   ]
  },
  {
   "cell_type": "code",
   "execution_count": 52,
   "id": "a053f418-9388-490b-8c19-9e2809d38dbf",
   "metadata": {},
   "outputs": [
    {
     "data": {
      "text/plain": [
       "Index(['국어', '영어', '수학'], dtype='object')"
      ]
     },
     "execution_count": 52,
     "metadata": {},
     "output_type": "execute_result"
    }
   ],
   "source": [
    "# 학생 성적 데이터 만들기\n",
    "# dic, list\n",
    "# 넘파이의 다차원 배열 사용하여 2차원 배열 생성\n",
    "data = np.array([ [60,70,80], [70,80,90], [80,90,100] ])\n",
    "data\n",
    "# 성적 데이터를 담아서 데이터 프레임 생성\n",
    "# 이 점수가 누구의 어떤 점수인지 알기 위해, 이름표 붙이기\n",
    "# 행이름: 학생의 이름\n",
    "# 열이름: 과목명\n",
    "df = pd.DataFrame(data, index=[\"둘리\",\"또치\",\"도우너\"], columns=['국어','영어','수학'])\n",
    "df\n",
    "\n",
    "# 행 인덱스\n",
    "df.index\n",
    "# 열 컬럼\n",
    "df.columns"
   ]
  },
  {
   "cell_type": "markdown",
   "id": "18ac1965-8d00-4ae2-bdda-bb0af597ad6a",
   "metadata": {},
   "source": [
    "데이터 프레임에서 데이터 꺼내기  \n",
    "<small>\n",
    "    loc: 행열 이름으로 데이터를 꺼낸다<br>\n",
    "    iloc: 행열 위치로 데이터를 꺼낸다<br>\n",
    "    []: 행열 이름으로 데이터를 꺼낸다\n",
    "</small>"
   ]
  },
  {
   "cell_type": "code",
   "execution_count": 71,
   "id": "b506e486-04fc-4e18-9f48-d1a85d1984cb",
   "metadata": {},
   "outputs": [
    {
     "name": "stdout",
     "output_type": "stream",
     "text": [
      "     국어  영어   수학\n",
      "둘리   60  70   80\n",
      "또치   70  80   90\n",
      "도우너  80  90  100\n",
      "둘리     60\n",
      "또치     70\n",
      "도우너    80\n",
      "Name: 국어, dtype: int64\n",
      "국어    60\n",
      "영어    70\n",
      "수학    80\n",
      "Name: 둘리, dtype: int64\n"
     ]
    },
    {
     "data": {
      "text/plain": [
       "둘리     70\n",
       "또치     80\n",
       "도우너    90\n",
       "Name: 영어, dtype: int64"
      ]
     },
     "execution_count": 71,
     "metadata": {},
     "output_type": "execute_result"
    }
   ],
   "source": [
    "print(df)\n",
    "# loc[행이름,열이름]\n",
    "df.loc[:,:] # 전체 데이터\n",
    "# loc[:,열이름]\n",
    "print(df.loc[:,'국어'])\n",
    "# loc[행이름]\n",
    "print(df.loc['둘리'])\n",
    "# 둘리의 국어 점수\n",
    "df.loc['둘리','국어']\n",
    "# 도우너의 수학 점수\n",
    "df.loc['도우너','수학']\n",
    "\n",
    "# 프레임에서 []대괄호를 쓰면, 열만 입력가능!\n",
    "# ex) df['둘리'] => ERROR! '둘리'는 행!\n",
    "\n",
    "# [열이름]\n",
    "# 모든 학생의 국어 점수\n",
    "df['국어']\n",
    "# 모든 학생의 영어 점수\n",
    "df['영어']"
   ]
  },
  {
   "cell_type": "markdown",
   "id": "23410725-d457-4390-8ff3-ce987178d9e7",
   "metadata": {},
   "source": [
    "데이터 프레임에 새로운 열 추가"
   ]
  },
  {
   "cell_type": "code",
   "execution_count": 78,
   "id": "44892b94-cfaf-4bc1-a245-4203f0365a3d",
   "metadata": {},
   "outputs": [
    {
     "name": "stdout",
     "output_type": "stream",
     "text": [
      "     국어  영어   수학  과학\n",
      "둘리   60  70   80  60\n",
      "또치   70  80   90  70\n",
      "도우너  80  90  100  80\n"
     ]
    },
    {
     "data": {
      "text/html": [
       "<div>\n",
       "<style scoped>\n",
       "    .dataframe tbody tr th:only-of-type {\n",
       "        vertical-align: middle;\n",
       "    }\n",
       "\n",
       "    .dataframe tbody tr th {\n",
       "        vertical-align: top;\n",
       "    }\n",
       "\n",
       "    .dataframe thead th {\n",
       "        text-align: right;\n",
       "    }\n",
       "</style>\n",
       "<table border=\"1\" class=\"dataframe\">\n",
       "  <thead>\n",
       "    <tr style=\"text-align: right;\">\n",
       "      <th></th>\n",
       "      <th>국어</th>\n",
       "      <th>영어</th>\n",
       "      <th>미술</th>\n",
       "      <th>수학</th>\n",
       "      <th>과학</th>\n",
       "    </tr>\n",
       "  </thead>\n",
       "  <tbody>\n",
       "    <tr>\n",
       "      <th>둘리</th>\n",
       "      <td>60</td>\n",
       "      <td>70</td>\n",
       "      <td>70</td>\n",
       "      <td>80</td>\n",
       "      <td>60</td>\n",
       "    </tr>\n",
       "    <tr>\n",
       "      <th>또치</th>\n",
       "      <td>70</td>\n",
       "      <td>80</td>\n",
       "      <td>80</td>\n",
       "      <td>90</td>\n",
       "      <td>70</td>\n",
       "    </tr>\n",
       "    <tr>\n",
       "      <th>도우너</th>\n",
       "      <td>80</td>\n",
       "      <td>90</td>\n",
       "      <td>90</td>\n",
       "      <td>100</td>\n",
       "      <td>80</td>\n",
       "    </tr>\n",
       "  </tbody>\n",
       "</table>\n",
       "</div>"
      ],
      "text/plain": [
       "     국어  영어  미술   수학  과학\n",
       "둘리   60  70  70   80  60\n",
       "또치   70  80  80   90  70\n",
       "도우너  80  90  90  100  80"
      ]
     },
     "execution_count": 78,
     "metadata": {},
     "output_type": "execute_result"
    }
   ],
   "source": [
    "# 새로운 과목 추가\n",
    "# 새로운 열=리스트\n",
    "# 맨뒤에 추가됨\n",
    "# df['과학'] = [60,70,80]\n",
    "# df\n",
    "print(df)\n",
    "# 이번에는 2번째 위치에 '미술' 과목을 추가\n",
    "# insert(위치,컬럼명,값리스트)\n",
    "df.insert(2,'미술',[70,80,90])\n",
    "df"
   ]
  },
  {
   "cell_type": "markdown",
   "id": "25bde175-cc92-42ae-8fa6-44284f82abdf",
   "metadata": {},
   "source": [
    "데이터 프레임에서 열 삭제  \n",
    "<small>\n",
    "    del:원본에서 바로 삭제<br>\n",
    "    drop: 원본은 그대로, 결과만 보여줌\n",
    "</small>"
   ]
  },
  {
   "cell_type": "code",
   "execution_count": 103,
   "id": "896d60a4-1c66-42aa-b4c2-1635eddb5b01",
   "metadata": {},
   "outputs": [
    {
     "name": "stdout",
     "output_type": "stream",
     "text": [
      "     국어  영어  미술\n",
      "둘리   60  70  70\n",
      "또치   70  80  80\n",
      "도우너  80  90  90\n"
     ]
    },
    {
     "data": {
      "text/html": [
       "<div>\n",
       "<style scoped>\n",
       "    .dataframe tbody tr th:only-of-type {\n",
       "        vertical-align: middle;\n",
       "    }\n",
       "\n",
       "    .dataframe tbody tr th {\n",
       "        vertical-align: top;\n",
       "    }\n",
       "\n",
       "    .dataframe thead th {\n",
       "        text-align: right;\n",
       "    }\n",
       "</style>\n",
       "<table border=\"1\" class=\"dataframe\">\n",
       "  <thead>\n",
       "    <tr style=\"text-align: right;\">\n",
       "      <th></th>\n",
       "      <th>국어</th>\n",
       "      <th>영어</th>\n",
       "      <th>미술</th>\n",
       "    </tr>\n",
       "  </thead>\n",
       "  <tbody>\n",
       "    <tr>\n",
       "      <th>둘리</th>\n",
       "      <td>60</td>\n",
       "      <td>70</td>\n",
       "      <td>70</td>\n",
       "    </tr>\n",
       "    <tr>\n",
       "      <th>도우너</th>\n",
       "      <td>80</td>\n",
       "      <td>90</td>\n",
       "      <td>90</td>\n",
       "    </tr>\n",
       "  </tbody>\n",
       "</table>\n",
       "</div>"
      ],
      "text/plain": [
       "     국어  영어  미술\n",
       "둘리   60  70  70\n",
       "도우너  80  90  90"
      ]
     },
     "execution_count": 103,
     "metadata": {},
     "output_type": "execute_result"
    }
   ],
   "source": [
    "# 과학 과목 삭제\n",
    "# 선택 > 삭제\n",
    "# del df['과학']\n",
    "\n",
    "# 수학 과목 삭제\n",
    "# drop(행또는열의 이름, 방향)\n",
    "# axis=1 또는 axis='columns'\n",
    "print(df)\n",
    "# df = df.drop('수학',axis=1) #엑시스(축, 방향)\n",
    "df\n",
    "\n",
    "# 도치 학생 삭제(행삭제)\n",
    "# axis=0 또는 axis='row'\n",
    "# drop은 원본에 영향없음\n",
    "# 결과를 원본에 교체\n",
    "df.loc['또치']\n",
    "df = df.drop('또치',axis=0)\n",
    "df"
   ]
  },
  {
   "cell_type": "markdown",
   "id": "c68f0279-d83e-470e-9668-b3d21f9e5ace",
   "metadata": {},
   "source": [
    "#### 4.3 데이터 계산과 처리"
   ]
  },
  {
   "cell_type": "markdown",
   "id": "c6f11e01-cc80-4c68-88f8-39821c14d2ea",
   "metadata": {},
   "source": [
    "시리즈에서 계산과 조건검색"
   ]
  },
  {
   "cell_type": "code",
   "execution_count": 106,
   "id": "c2a58cfb-057a-40bc-8e87-492630a203c5",
   "metadata": {},
   "outputs": [
    {
     "name": "stdout",
     "output_type": "stream",
     "text": [
      "-1\n",
      "0\n",
      "1\n",
      "2\n",
      "3\n"
     ]
    }
   ],
   "source": [
    "# 숫자가 담긴 리스트 생성\n",
    "lis = [-2,-1,0,1,2]\n",
    "# 모든 원소에 1만큼 더하기\n",
    "for i in lis:\n",
    "    print(i+1)"
   ]
  },
  {
   "cell_type": "code",
   "execution_count": 108,
   "id": "1bf6aae8-87c7-4463-9cc5-be81b696b85b",
   "metadata": {},
   "outputs": [
    {
     "data": {
      "text/plain": [
       "0   -1\n",
       "1    0\n",
       "2    1\n",
       "3    2\n",
       "4    3\n",
       "dtype: int64"
      ]
     },
     "execution_count": 108,
     "metadata": {},
     "output_type": "execute_result"
    }
   ],
   "source": [
    "# 숫자가 담긴 시리즈 생성\n",
    "s = pd.Series([-2,-1,0,1,2])\n",
    "\n",
    "# 모든 원소에 1만큼 더하기\n",
    "# 판다스의 시리즈는 for 없이 반복수행가능\n",
    "# 아래 계산식은 자동으로 더하기가 6번 반복 수행됨\n",
    "# s + 1\n",
    "s.add(1)"
   ]
  },
  {
   "cell_type": "code",
   "execution_count": 117,
   "id": "c0c2d65d-f9f7-416d-b296-438b30ae19ee",
   "metadata": {},
   "outputs": [
    {
     "data": {
      "text/plain": [
       "3    1\n",
       "4    2\n",
       "dtype: int64"
      ]
     },
     "execution_count": 117,
     "metadata": {},
     "output_type": "execute_result"
    }
   ],
   "source": [
    "s\n",
    "# 조건 검색(양수만 찾기)\n",
    "# 불리언 배열 만들기\n",
    "# Series > int => 시리즈의 전체 데이터와 0을 비교\n",
    "s > 0\n",
    "# 불리언 배열은 시리즈의 인덱스로 사용할 수 있다\n",
    "# true인 값만 남음\n",
    "s[s>0]"
   ]
  },
  {
   "cell_type": "code",
   "execution_count": 125,
   "id": "a34532c2-3d4f-49e8-892d-8645757d2ba3",
   "metadata": {},
   "outputs": [
    {
     "data": {
      "text/plain": [
       "1     2\n",
       "3     4\n",
       "5     6\n",
       "7     8\n",
       "9    10\n",
       "dtype: int64"
      ]
     },
     "execution_count": 125,
     "metadata": {},
     "output_type": "execute_result"
    }
   ],
   "source": [
    "# 조건검색2 (짝수만 찾기)\n",
    "# 넘파이의 arange함수(시작,마지막)\n",
    "# 1~10 숫자가 담긴 시리즈 생성\n",
    "s = pd.Series(np.arange(1,11))\n",
    "s\n",
    "\n",
    "# 짝수만 찾기\n",
    "s[s%2 ==0]"
   ]
  },
  {
   "cell_type": "markdown",
   "id": "e78a995b-6e94-456b-8ddf-7cd22d0f17be",
   "metadata": {},
   "source": [
    "데이터 프레임에서 계산과 처리"
   ]
  },
  {
   "cell_type": "code",
   "execution_count": 127,
   "id": "8a96a5d2-5fea-4e84-b909-efdc79bf3170",
   "metadata": {},
   "outputs": [
    {
     "data": {
      "text/html": [
       "<div>\n",
       "<style scoped>\n",
       "    .dataframe tbody tr th:only-of-type {\n",
       "        vertical-align: middle;\n",
       "    }\n",
       "\n",
       "    .dataframe tbody tr th {\n",
       "        vertical-align: top;\n",
       "    }\n",
       "\n",
       "    .dataframe thead th {\n",
       "        text-align: right;\n",
       "    }\n",
       "</style>\n",
       "<table border=\"1\" class=\"dataframe\">\n",
       "  <thead>\n",
       "    <tr style=\"text-align: right;\">\n",
       "      <th></th>\n",
       "      <th>국어</th>\n",
       "      <th>영어</th>\n",
       "      <th>수학</th>\n",
       "    </tr>\n",
       "  </thead>\n",
       "  <tbody>\n",
       "    <tr>\n",
       "      <th>둘리</th>\n",
       "      <td>60</td>\n",
       "      <td>70</td>\n",
       "      <td>80</td>\n",
       "    </tr>\n",
       "    <tr>\n",
       "      <th>또치</th>\n",
       "      <td>70</td>\n",
       "      <td>80</td>\n",
       "      <td>90</td>\n",
       "    </tr>\n",
       "    <tr>\n",
       "      <th>도우너</th>\n",
       "      <td>80</td>\n",
       "      <td>90</td>\n",
       "      <td>10</td>\n",
       "    </tr>\n",
       "  </tbody>\n",
       "</table>\n",
       "</div>"
      ],
      "text/plain": [
       "     국어  영어  수학\n",
       "둘리   60  70  80\n",
       "또치   70  80  90\n",
       "도우너  80  90  10"
      ]
     },
     "execution_count": 127,
     "metadata": {},
     "output_type": "execute_result"
    }
   ],
   "source": [
    "# 학생 성적 데이터 만들기\n",
    "data = np.array([ [60,70,80], [70,80,90], [80,90,10] ])\n",
    "# 성적데이터를 담아서 프레임 생성\n",
    "df = pd.DataFrame(data, \n",
    "                  index=['둘리','또치','도우너'],\n",
    "                  columns=['국어','영어','수학'])\n",
    "df"
   ]
  },
  {
   "cell_type": "code",
   "execution_count": 131,
   "id": "adc50a2a-3019-4e03-a3be-9035cbe8b57f",
   "metadata": {},
   "outputs": [
    {
     "data": {
      "text/plain": [
       "pandas.core.series.Series"
      ]
     },
     "execution_count": 131,
     "metadata": {},
     "output_type": "execute_result"
    }
   ],
   "source": [
    "# 국어 과목만 조회\n",
    "df['국어']\n",
    "# 국어과목에 담겨있는 값의 자료형\n",
    "df['국어'].dtype\n",
    "# 국어과목의 자료 구조\n",
    "type(df['국어'])\n",
    "# 데이터프레임은 여러 시리즈의 묶음"
   ]
  },
  {
   "cell_type": "code",
   "execution_count": 136,
   "id": "0bc2e060-f51e-40b9-8495-2271e888f980",
   "metadata": {},
   "outputs": [
    {
     "data": {
      "text/plain": [
       "둘리     70\n",
       "또치     80\n",
       "도우너    90\n",
       "Name: 국어, dtype: int64"
      ]
     },
     "execution_count": 136,
     "metadata": {},
     "output_type": "execute_result"
    }
   ],
   "source": [
    "# 전체 점수에 1점씩 더하기\n",
    "# 데이터 프레임 전체 데이터에 더하기가 적용됨\n",
    "df + 1\n",
    "# 국어점수만 10점씩 더하기\n",
    "df['국어']+10"
   ]
  },
  {
   "cell_type": "code",
   "execution_count": 140,
   "id": "cea67ce1-d7f8-446d-9a92-10fdf8051379",
   "metadata": {},
   "outputs": [
    {
     "data": {
      "text/html": [
       "<div>\n",
       "<style scoped>\n",
       "    .dataframe tbody tr th:only-of-type {\n",
       "        vertical-align: middle;\n",
       "    }\n",
       "\n",
       "    .dataframe tbody tr th {\n",
       "        vertical-align: top;\n",
       "    }\n",
       "\n",
       "    .dataframe thead th {\n",
       "        text-align: right;\n",
       "    }\n",
       "</style>\n",
       "<table border=\"1\" class=\"dataframe\">\n",
       "  <thead>\n",
       "    <tr style=\"text-align: right;\">\n",
       "      <th></th>\n",
       "      <th>국어</th>\n",
       "      <th>영어</th>\n",
       "      <th>수학</th>\n",
       "    </tr>\n",
       "  </thead>\n",
       "  <tbody>\n",
       "    <tr>\n",
       "      <th>또치</th>\n",
       "      <td>70</td>\n",
       "      <td>80</td>\n",
       "      <td>90</td>\n",
       "    </tr>\n",
       "    <tr>\n",
       "      <th>도우너</th>\n",
       "      <td>80</td>\n",
       "      <td>90</td>\n",
       "      <td>10</td>\n",
       "    </tr>\n",
       "  </tbody>\n",
       "</table>\n",
       "</div>"
      ],
      "text/plain": [
       "     국어  영어  수학\n",
       "또치   70  80  90\n",
       "도우너  80  90  10"
      ]
     },
     "execution_count": 140,
     "metadata": {},
     "output_type": "execute_result"
    }
   ],
   "source": [
    "# 조건 검색(국어점수가 70점 이상인 학생만 찾기)\n",
    "df['국어']>=70\n",
    "# 프레임에 bool 배열을 인덱스로 사용\n",
    "df[df['국어']>=70]"
   ]
  },
  {
   "cell_type": "markdown",
   "id": "de2c147b-cb64-4fb7-ab0d-81455c88c039",
   "metadata": {},
   "source": [
    "데이터프레임의 정렬  \n",
    "<small>\n",
    "    시험 성적 순위를 매길때 사용  \n",
    "</small>"
   ]
  },
  {
   "cell_type": "code",
   "execution_count": 142,
   "id": "18f4f68c-57ee-4647-bd6a-04b6cc9c5ce3",
   "metadata": {},
   "outputs": [
    {
     "data": {
      "text/html": [
       "<div>\n",
       "<style scoped>\n",
       "    .dataframe tbody tr th:only-of-type {\n",
       "        vertical-align: middle;\n",
       "    }\n",
       "\n",
       "    .dataframe tbody tr th {\n",
       "        vertical-align: top;\n",
       "    }\n",
       "\n",
       "    .dataframe thead th {\n",
       "        text-align: right;\n",
       "    }\n",
       "</style>\n",
       "<table border=\"1\" class=\"dataframe\">\n",
       "  <thead>\n",
       "    <tr style=\"text-align: right;\">\n",
       "      <th></th>\n",
       "      <th>국어</th>\n",
       "      <th>영어</th>\n",
       "      <th>수학</th>\n",
       "    </tr>\n",
       "  </thead>\n",
       "  <tbody>\n",
       "    <tr>\n",
       "      <th>둘리</th>\n",
       "      <td>60</td>\n",
       "      <td>70</td>\n",
       "      <td>80</td>\n",
       "    </tr>\n",
       "    <tr>\n",
       "      <th>또치</th>\n",
       "      <td>70</td>\n",
       "      <td>80</td>\n",
       "      <td>90</td>\n",
       "    </tr>\n",
       "    <tr>\n",
       "      <th>도우너</th>\n",
       "      <td>80</td>\n",
       "      <td>90</td>\n",
       "      <td>10</td>\n",
       "    </tr>\n",
       "  </tbody>\n",
       "</table>\n",
       "</div>"
      ],
      "text/plain": [
       "     국어  영어  수학\n",
       "둘리   60  70  80\n",
       "또치   70  80  90\n",
       "도우너  80  90  10"
      ]
     },
     "execution_count": 142,
     "metadata": {},
     "output_type": "execute_result"
    }
   ],
   "source": [
    "data = np.array([ [60,70,80], [70,80,90], [80,90,10] ])\n",
    "df = pd.DataFrame(data, \n",
    "                  index=['둘리','또치','도우너'],\n",
    "                  columns=['국어','영어','수학'])\n",
    "df"
   ]
  },
  {
   "cell_type": "code",
   "execution_count": 145,
   "id": "6ea27e10-fecb-4505-8aac-7c60a72d2624",
   "metadata": {},
   "outputs": [
    {
     "data": {
      "text/html": [
       "<div>\n",
       "<style scoped>\n",
       "    .dataframe tbody tr th:only-of-type {\n",
       "        vertical-align: middle;\n",
       "    }\n",
       "\n",
       "    .dataframe tbody tr th {\n",
       "        vertical-align: top;\n",
       "    }\n",
       "\n",
       "    .dataframe thead th {\n",
       "        text-align: right;\n",
       "    }\n",
       "</style>\n",
       "<table border=\"1\" class=\"dataframe\">\n",
       "  <thead>\n",
       "    <tr style=\"text-align: right;\">\n",
       "      <th></th>\n",
       "      <th>국어</th>\n",
       "      <th>영어</th>\n",
       "      <th>수학</th>\n",
       "    </tr>\n",
       "  </thead>\n",
       "  <tbody>\n",
       "    <tr>\n",
       "      <th>도우너</th>\n",
       "      <td>80</td>\n",
       "      <td>90</td>\n",
       "      <td>10</td>\n",
       "    </tr>\n",
       "    <tr>\n",
       "      <th>또치</th>\n",
       "      <td>70</td>\n",
       "      <td>80</td>\n",
       "      <td>90</td>\n",
       "    </tr>\n",
       "    <tr>\n",
       "      <th>둘리</th>\n",
       "      <td>60</td>\n",
       "      <td>70</td>\n",
       "      <td>80</td>\n",
       "    </tr>\n",
       "  </tbody>\n",
       "</table>\n",
       "</div>"
      ],
      "text/plain": [
       "     국어  영어  수학\n",
       "도우너  80  90  10\n",
       "또치   70  80  90\n",
       "둘리   60  70  80"
      ]
     },
     "execution_count": 145,
     "metadata": {},
     "output_type": "execute_result"
    }
   ],
   "source": [
    "# 시험 성적에서 국어 점수를 기준으로 정렬\n",
    "df.sort_values('국어')\n",
    "# 국어 점수를 기준으로 내림차순 정렬\n",
    "# 정렬 기준: 오름차순 / 내림차순\n",
    "df.sort_values('국어', ascending=False)"
   ]
  },
  {
   "cell_type": "code",
   "execution_count": 146,
   "id": "3d406c77-ea9c-40f2-bb40-f6e347eeab06",
   "metadata": {},
   "outputs": [
    {
     "name": "stdout",
     "output_type": "stream",
     "text": [
      "[88 73 93 96 86 77 94 60 87]\n"
     ]
    }
   ],
   "source": [
    "# 학생 데이터 생성\n",
    "# 범위\n",
    "data = np.random.randint(60,100,9)\n",
    "print(data)"
   ]
  },
  {
   "cell_type": "code",
   "execution_count": 156,
   "id": "c95bb67c-f9be-47c8-b14d-fc06edfafcf0",
   "metadata": {},
   "outputs": [
    {
     "name": "stdout",
     "output_type": "stream",
     "text": [
      "     수학  영어  과학\n",
      "둘리   95  77  75\n",
      "또치   96  61  99\n",
      "도우너  73  76  95\n"
     ]
    },
    {
     "data": {
      "text/html": [
       "<div>\n",
       "<style scoped>\n",
       "    .dataframe tbody tr th:only-of-type {\n",
       "        vertical-align: middle;\n",
       "    }\n",
       "\n",
       "    .dataframe tbody tr th {\n",
       "        vertical-align: top;\n",
       "    }\n",
       "\n",
       "    .dataframe thead th {\n",
       "        text-align: right;\n",
       "    }\n",
       "</style>\n",
       "<table border=\"1\" class=\"dataframe\">\n",
       "  <thead>\n",
       "    <tr style=\"text-align: right;\">\n",
       "      <th></th>\n",
       "      <th>수학</th>\n",
       "      <th>영어</th>\n",
       "      <th>과학</th>\n",
       "    </tr>\n",
       "  </thead>\n",
       "  <tbody>\n",
       "    <tr>\n",
       "      <th>둘리</th>\n",
       "      <td>95</td>\n",
       "      <td>77</td>\n",
       "      <td>75</td>\n",
       "    </tr>\n",
       "    <tr>\n",
       "      <th>도우너</th>\n",
       "      <td>73</td>\n",
       "      <td>76</td>\n",
       "      <td>95</td>\n",
       "    </tr>\n",
       "    <tr>\n",
       "      <th>또치</th>\n",
       "      <td>96</td>\n",
       "      <td>61</td>\n",
       "      <td>99</td>\n",
       "    </tr>\n",
       "  </tbody>\n",
       "</table>\n",
       "</div>"
      ],
      "text/plain": [
       "     수학  영어  과학\n",
       "둘리   95  77  75\n",
       "도우너  73  76  95\n",
       "또치   96  61  99"
      ]
     },
     "execution_count": 156,
     "metadata": {},
     "output_type": "execute_result"
    }
   ],
   "source": [
    "# 랜덤함수로 시험 점수 생성\n",
    "# 범위: 60점 ~ 100점\n",
    "# 개수 : 9개\n",
    "data = np.random.randint(60,100,9)\n",
    "# 3행3열 크기의 2차원 배열로 변환\n",
    "arr = data.reshape(3,3)\n",
    "arr\n",
    "# 프레임 생성\n",
    "df = pd.DataFrame(arr, index=['둘리','또치','도우너'],\n",
    "                  columns=['수학','영어','과학'])\n",
    "print(df)\n",
    "# 영어 점수가 높은 사람 순으로 정렬(내림차순)\n",
    "df.sort_values('영어', ascending=False)"
   ]
  },
  {
   "cell_type": "markdown",
   "id": "b8644c19-08d5-41e6-963d-6e34ec7235ba",
   "metadata": {},
   "source": [
    "nan 처리  \n",
    "<small>\n",
    "누락된값, 빈값<br>\n",
    "예를 들어 엑셀에서 빈셀을 표현할 때 사용<br>\n",
    "nan은 float타입에서만 표현 가능\n",
    "</small>"
   ]
  },
  {
   "cell_type": "code",
   "execution_count": 157,
   "id": "b1b78cd4-0d6d-4705-af85-4afdaceb3d4a",
   "metadata": {},
   "outputs": [
    {
     "data": {
      "text/html": [
       "<div>\n",
       "<style scoped>\n",
       "    .dataframe tbody tr th:only-of-type {\n",
       "        vertical-align: middle;\n",
       "    }\n",
       "\n",
       "    .dataframe tbody tr th {\n",
       "        vertical-align: top;\n",
       "    }\n",
       "\n",
       "    .dataframe thead th {\n",
       "        text-align: right;\n",
       "    }\n",
       "</style>\n",
       "<table border=\"1\" class=\"dataframe\">\n",
       "  <thead>\n",
       "    <tr style=\"text-align: right;\">\n",
       "      <th></th>\n",
       "      <th>수학</th>\n",
       "      <th>영어</th>\n",
       "      <th>과학</th>\n",
       "    </tr>\n",
       "  </thead>\n",
       "  <tbody>\n",
       "    <tr>\n",
       "      <th>둘리</th>\n",
       "      <td>95</td>\n",
       "      <td>77</td>\n",
       "      <td>75</td>\n",
       "    </tr>\n",
       "    <tr>\n",
       "      <th>또치</th>\n",
       "      <td>96</td>\n",
       "      <td>61</td>\n",
       "      <td>99</td>\n",
       "    </tr>\n",
       "    <tr>\n",
       "      <th>도우너</th>\n",
       "      <td>73</td>\n",
       "      <td>76</td>\n",
       "      <td>95</td>\n",
       "    </tr>\n",
       "  </tbody>\n",
       "</table>\n",
       "</div>"
      ],
      "text/plain": [
       "     수학  영어  과학\n",
       "둘리   95  77  75\n",
       "또치   96  61  99\n",
       "도우너  73  76  95"
      ]
     },
     "execution_count": 157,
     "metadata": {},
     "output_type": "execute_result"
    }
   ],
   "source": [
    "df"
   ]
  },
  {
   "cell_type": "code",
   "execution_count": 163,
   "id": "0a47c591-04a8-4c44-8ab6-6991e7d51b1f",
   "metadata": {},
   "outputs": [
    {
     "data": {
      "text/html": [
       "<div>\n",
       "<style scoped>\n",
       "    .dataframe tbody tr th:only-of-type {\n",
       "        vertical-align: middle;\n",
       "    }\n",
       "\n",
       "    .dataframe tbody tr th {\n",
       "        vertical-align: top;\n",
       "    }\n",
       "\n",
       "    .dataframe thead th {\n",
       "        text-align: right;\n",
       "    }\n",
       "</style>\n",
       "<table border=\"1\" class=\"dataframe\">\n",
       "  <thead>\n",
       "    <tr style=\"text-align: right;\">\n",
       "      <th></th>\n",
       "      <th>수학</th>\n",
       "      <th>영어</th>\n",
       "      <th>과학</th>\n",
       "    </tr>\n",
       "  </thead>\n",
       "  <tbody>\n",
       "    <tr>\n",
       "      <th>둘리</th>\n",
       "      <td>95</td>\n",
       "      <td>NaN</td>\n",
       "      <td>75</td>\n",
       "    </tr>\n",
       "    <tr>\n",
       "      <th>또치</th>\n",
       "      <td>96</td>\n",
       "      <td>61.0</td>\n",
       "      <td>99</td>\n",
       "    </tr>\n",
       "    <tr>\n",
       "      <th>도우너</th>\n",
       "      <td>73</td>\n",
       "      <td>76.0</td>\n",
       "      <td>95</td>\n",
       "    </tr>\n",
       "  </tbody>\n",
       "</table>\n",
       "</div>"
      ],
      "text/plain": [
       "     수학    영어  과학\n",
       "둘리   95   NaN  75\n",
       "또치   96  61.0  99\n",
       "도우너  73  76.0  95"
      ]
     },
     "execution_count": 163,
     "metadata": {},
     "output_type": "execute_result"
    }
   ],
   "source": [
    "# 둘리의 영어점수를 빈값(nan)으로 표시\n",
    "# 빈값을 넣으면 해당 값이 들어간 열이 float 타입으로 자동 형변환됨\n",
    "# df.loc['둘리','영어'] = np.nan\n",
    "# df['영어'].dtype => float\n",
    "df"
   ]
  },
  {
   "cell_type": "code",
   "execution_count": 170,
   "id": "67e21815-3b70-4d2c-9321-2a57008cb397",
   "metadata": {},
   "outputs": [
    {
     "data": {
      "text/html": [
       "<div>\n",
       "<style scoped>\n",
       "    .dataframe tbody tr th:only-of-type {\n",
       "        vertical-align: middle;\n",
       "    }\n",
       "\n",
       "    .dataframe tbody tr th {\n",
       "        vertical-align: top;\n",
       "    }\n",
       "\n",
       "    .dataframe thead th {\n",
       "        text-align: right;\n",
       "    }\n",
       "</style>\n",
       "<table border=\"1\" class=\"dataframe\">\n",
       "  <thead>\n",
       "    <tr style=\"text-align: right;\">\n",
       "      <th></th>\n",
       "      <th>수학</th>\n",
       "      <th>영어</th>\n",
       "      <th>과학</th>\n",
       "    </tr>\n",
       "  </thead>\n",
       "  <tbody>\n",
       "    <tr>\n",
       "      <th>또치</th>\n",
       "      <td>96</td>\n",
       "      <td>61.0</td>\n",
       "      <td>99</td>\n",
       "    </tr>\n",
       "    <tr>\n",
       "      <th>도우너</th>\n",
       "      <td>73</td>\n",
       "      <td>76.0</td>\n",
       "      <td>95</td>\n",
       "    </tr>\n",
       "  </tbody>\n",
       "</table>\n",
       "</div>"
      ],
      "text/plain": [
       "     수학    영어  과학\n",
       "또치   96  61.0  99\n",
       "도우너  73  76.0  95"
      ]
     },
     "execution_count": 170,
     "metadata": {},
     "output_type": "execute_result"
    }
   ],
   "source": [
    "# 점수가 없는 학생 데이터 삭제\n",
    "# 빈값이 있는 행 또는 열 삭제\n",
    "# 엑시스 0 'row' => 행\n",
    "# 삭제를 반영하기 위해서, 결과를 df에 덮어싀우기!\n",
    "df = df.dropna(axis=0)\n",
    "df"
   ]
  },
  {
   "cell_type": "code",
   "execution_count": 175,
   "id": "3bc9888e-4869-4cb8-ac3d-d5696a93ea90",
   "metadata": {},
   "outputs": [
    {
     "data": {
      "text/html": [
       "<div>\n",
       "<style scoped>\n",
       "    .dataframe tbody tr th:only-of-type {\n",
       "        vertical-align: middle;\n",
       "    }\n",
       "\n",
       "    .dataframe tbody tr th {\n",
       "        vertical-align: top;\n",
       "    }\n",
       "\n",
       "    .dataframe thead th {\n",
       "        text-align: right;\n",
       "    }\n",
       "</style>\n",
       "<table border=\"1\" class=\"dataframe\">\n",
       "  <thead>\n",
       "    <tr style=\"text-align: right;\">\n",
       "      <th></th>\n",
       "      <th>수학</th>\n",
       "      <th>영어</th>\n",
       "      <th>과학</th>\n",
       "    </tr>\n",
       "  </thead>\n",
       "  <tbody>\n",
       "    <tr>\n",
       "      <th>또치</th>\n",
       "      <td>96</td>\n",
       "      <td>61.0</td>\n",
       "      <td>NaN</td>\n",
       "    </tr>\n",
       "    <tr>\n",
       "      <th>도우너</th>\n",
       "      <td>73</td>\n",
       "      <td>76.0</td>\n",
       "      <td>95.0</td>\n",
       "    </tr>\n",
       "  </tbody>\n",
       "</table>\n",
       "</div>"
      ],
      "text/plain": [
       "     수학    영어    과학\n",
       "또치   96  61.0   NaN\n",
       "도우너  73  76.0  95.0"
      ]
     },
     "execution_count": 175,
     "metadata": {},
     "output_type": "execute_result"
    }
   ],
   "source": [
    "# 또치의 과학 점수를 빈값으로 설정\n",
    "df.loc['또치','과학'] = np.nan\n",
    "df"
   ]
  },
  {
   "cell_type": "code",
   "execution_count": 176,
   "id": "30044459-bfc4-4793-8401-d94601fc5ade",
   "metadata": {},
   "outputs": [
    {
     "data": {
      "text/html": [
       "<div>\n",
       "<style scoped>\n",
       "    .dataframe tbody tr th:only-of-type {\n",
       "        vertical-align: middle;\n",
       "    }\n",
       "\n",
       "    .dataframe tbody tr th {\n",
       "        vertical-align: top;\n",
       "    }\n",
       "\n",
       "    .dataframe thead th {\n",
       "        text-align: right;\n",
       "    }\n",
       "</style>\n",
       "<table border=\"1\" class=\"dataframe\">\n",
       "  <thead>\n",
       "    <tr style=\"text-align: right;\">\n",
       "      <th></th>\n",
       "      <th>수학</th>\n",
       "      <th>영어</th>\n",
       "      <th>과학</th>\n",
       "    </tr>\n",
       "  </thead>\n",
       "  <tbody>\n",
       "    <tr>\n",
       "      <th>또치</th>\n",
       "      <td>96</td>\n",
       "      <td>61.0</td>\n",
       "      <td>0.0</td>\n",
       "    </tr>\n",
       "    <tr>\n",
       "      <th>도우너</th>\n",
       "      <td>73</td>\n",
       "      <td>76.0</td>\n",
       "      <td>95.0</td>\n",
       "    </tr>\n",
       "  </tbody>\n",
       "</table>\n",
       "</div>"
      ],
      "text/plain": [
       "     수학    영어    과학\n",
       "또치   96  61.0   0.0\n",
       "도우너  73  76.0  95.0"
      ]
     },
     "execution_count": 176,
     "metadata": {},
     "output_type": "execute_result"
    }
   ],
   "source": [
    "# 비어있는 점수를 모두 0으로 설정\n",
    "df.fillna(0)"
   ]
  },
  {
   "cell_type": "code",
   "execution_count": null,
   "id": "66fd8d10-9ded-4406-8046-4fc9a254dd00",
   "metadata": {},
   "outputs": [],
   "source": []
  }
 ],
 "metadata": {
  "kernelspec": {
   "display_name": "Python 3 (ipykernel)",
   "language": "python",
   "name": "python3"
  },
  "language_info": {
   "codemirror_mode": {
    "name": "ipython",
    "version": 3
   },
   "file_extension": ".py",
   "mimetype": "text/x-python",
   "name": "python",
   "nbconvert_exporter": "python",
   "pygments_lexer": "ipython3",
   "version": "3.10.18"
  }
 },
 "nbformat": 4,
 "nbformat_minor": 5
}
