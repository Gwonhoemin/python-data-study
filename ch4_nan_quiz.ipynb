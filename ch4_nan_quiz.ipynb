{
 "cells": [
  {
   "cell_type": "markdown",
   "id": "46044db4-fb73-41a6-a5e8-4e7e3fde4b92",
   "metadata": {},
   "source": [
    "### nan 처리"
   ]
  },
  {
   "cell_type": "code",
   "execution_count": 1,
   "id": "63d20ab4-ab6b-4d8d-84f6-a2babe046dc6",
   "metadata": {},
   "outputs": [],
   "source": [
    "import pandas as pd\n",
    "import numpy as np"
   ]
  },
  {
   "cell_type": "markdown",
   "id": "2a5aaef2-6bd9-4168-86ad-1f2550f51cd2",
   "metadata": {},
   "source": [
    "1번"
   ]
  },
  {
   "cell_type": "code",
   "execution_count": 10,
   "id": "bc4a0a40-928c-41b4-b1d4-5a95e589c256",
   "metadata": {},
   "outputs": [
    {
     "name": "stdout",
     "output_type": "stream",
     "text": [
      "     봄    여름  겨울\n",
      "서울  20   NaN  15\n",
      "부산  18  22.0  19\n",
      "대구  25  27.0  23\n",
      "     봄    여름  겨울\n",
      "부산  18  22.0  19\n",
      "대구  25  27.0  23\n",
      "       봄    여름  겨울\n",
      "부산   NaN  22.0  19\n",
      "대구  25.0  27.0  23\n",
      "       봄    여름  겨울\n",
      "부산   0.0  22.0  19\n",
      "대구  25.0  27.0  23\n"
     ]
    }
   ],
   "source": [
    "# 도시별 기온 데이터\n",
    "data = np.array([[20,25,15],[18,22,19],[25,27,23]])\n",
    "df = pd.DataFrame(data , index=['서울','부산','대구'], columns=['봄','여름','겨울'])\n",
    "df\n",
    "\n",
    "# 1. 서울의 여름 기온 빈값으로 변경\n",
    "df.loc['서울','여름']=np.nan\n",
    "print(df)\n",
    "# 2. 빈값이 포함된 행을 삭제\n",
    "df = df.dropna(axis=0)\n",
    "print(df)\n",
    "# 3. 부산의 봄 기온 빈값으로 변경\n",
    "df.loc['부산','봄']=np.nan\n",
    "print(df)\n",
    "# 4. 모든 빈값을 0으로 채우세요\n",
    "df=df.fillna(0)\n",
    "print(df)"
   ]
  },
  {
   "cell_type": "markdown",
   "id": "076979ca-56ad-43f9-8cba-8820325a80a7",
   "metadata": {},
   "source": [
    "2번"
   ]
  },
  {
   "cell_type": "code",
   "execution_count": 18,
   "id": "9daacd7b-1ea3-4b5a-8e6b-f3bda0eee381",
   "metadata": {},
   "outputs": [
    {
     "name": "stdout",
     "output_type": "stream",
     "text": [
      "    1반    2반  3반\n",
      "국어  80  75.0  90\n",
      "영어  85   NaN  82\n",
      "수학  70  65.0  78\n",
      "    1반  3반\n",
      "국어  80  90\n",
      "영어  85  82\n",
      "수학  70  78\n",
      "    1반    3반\n",
      "국어  80  90.0\n",
      "영어  85  82.0\n",
      "수학  70   NaN\n",
      "    1반     3반\n",
      "국어  80   90.0\n",
      "영어  85   82.0\n",
      "수학  70  100.0\n"
     ]
    }
   ],
   "source": [
    "# 학급별 점수 데이터\n",
    "data = np.array([[80,75,90],[85,88,82],[70,65,78]])\n",
    "df = pd.DataFrame(data,\n",
    "                  index=['국어','영어','수학'],\n",
    "                  columns=['1반','2반','3반'])\n",
    "df\n",
    "\n",
    "# 1. 2반영어점수를 빈값으로 변경\n",
    "df.loc['영어','2반'] = np.nan\n",
    "print(df)\n",
    "# 2. 빈값이 포함된 열 삭제\n",
    "df= df.dropna(axis=1)\n",
    "print(df)\n",
    "# 3. 3반수학점수를 빈값으로 변경\n",
    "df.loc['수학','3반'] = np.nan\n",
    "print(df)\n",
    "# 4. 모든 빈값을 100으로 채우세요\n",
    "df = df.fillna(100)\n",
    "print(df)"
   ]
  },
  {
   "cell_type": "code",
   "execution_count": null,
   "id": "08e053c2-12f8-422f-8f70-2c9b70967147",
   "metadata": {},
   "outputs": [],
   "source": []
  }
 ],
 "metadata": {
  "kernelspec": {
   "display_name": "Python 3 (ipykernel)",
   "language": "python",
   "name": "python3"
  },
  "language_info": {
   "codemirror_mode": {
    "name": "ipython",
    "version": 3
   },
   "file_extension": ".py",
   "mimetype": "text/x-python",
   "name": "python",
   "nbconvert_exporter": "python",
   "pygments_lexer": "ipython3",
   "version": "3.10.18"
  }
 },
 "nbformat": 4,
 "nbformat_minor": 5
}
